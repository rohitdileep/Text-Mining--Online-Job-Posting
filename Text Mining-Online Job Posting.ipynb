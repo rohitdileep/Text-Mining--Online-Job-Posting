{
 "cells": [
  {
   "cell_type": "code",
   "execution_count": 1,
   "metadata": {},
   "outputs": [],
   "source": [
    "import numpy as np\n",
    "import pandas as pd\n",
    "import matplotlib.pyplot as plt\n",
    "import seaborn as sns\n",
    "import nltk\n",
    "import datetime as dt\n",
    "%matplotlib inline\n",
    "import re\n"
   ]
  },
  {
   "cell_type": "code",
   "execution_count": 2,
   "metadata": {},
   "outputs": [],
   "source": [
    "from nltk.stem import WordNetLemmatizer\n",
    "from nltk.corpus import stopwords\n",
    "from sklearn.feature_extraction.text import TfidfVectorizer\n",
    "from sklearn.model_selection import train_test_split\n",
    "import statsmodels.formula.api as smf\n",
    "from sklearn.feature_selection import RFE\n",
    "from sklearn.linear_model import LogisticRegression"
   ]
  },
  {
   "cell_type": "code",
   "execution_count": 3,
   "metadata": {
    "scrolled": true
   },
   "outputs": [
    {
     "data": {
      "text/html": [
       "<div>\n",
       "<style scoped>\n",
       "    .dataframe tbody tr th:only-of-type {\n",
       "        vertical-align: middle;\n",
       "    }\n",
       "\n",
       "    .dataframe tbody tr th {\n",
       "        vertical-align: top;\n",
       "    }\n",
       "\n",
       "    .dataframe thead th {\n",
       "        text-align: right;\n",
       "    }\n",
       "</style>\n",
       "<table border=\"1\" class=\"dataframe\">\n",
       "  <thead>\n",
       "    <tr style=\"text-align: right;\">\n",
       "      <th></th>\n",
       "      <th>jobpost</th>\n",
       "      <th>date</th>\n",
       "      <th>Title</th>\n",
       "      <th>Company</th>\n",
       "      <th>AnnouncementCode</th>\n",
       "      <th>Term</th>\n",
       "      <th>Eligibility</th>\n",
       "      <th>Audience</th>\n",
       "      <th>StartDate</th>\n",
       "      <th>Duration</th>\n",
       "      <th>...</th>\n",
       "      <th>Salary</th>\n",
       "      <th>ApplicationP</th>\n",
       "      <th>OpeningDate</th>\n",
       "      <th>Deadline</th>\n",
       "      <th>Notes</th>\n",
       "      <th>AboutC</th>\n",
       "      <th>Attach</th>\n",
       "      <th>Year</th>\n",
       "      <th>Month</th>\n",
       "      <th>IT</th>\n",
       "    </tr>\n",
       "  </thead>\n",
       "  <tbody>\n",
       "    <tr>\n",
       "      <th>0</th>\n",
       "      <td>AMERIA Investment Consulting Company\\nJOB TITL...</td>\n",
       "      <td>Jan 5, 2004</td>\n",
       "      <td>Chief Financial Officer</td>\n",
       "      <td>AMERIA Investment Consulting Company</td>\n",
       "      <td>NaN</td>\n",
       "      <td>NaN</td>\n",
       "      <td>NaN</td>\n",
       "      <td>NaN</td>\n",
       "      <td>NaN</td>\n",
       "      <td>NaN</td>\n",
       "      <td>...</td>\n",
       "      <td>NaN</td>\n",
       "      <td>To apply for this position, please submit a\\nc...</td>\n",
       "      <td>NaN</td>\n",
       "      <td>26 January 2004</td>\n",
       "      <td>NaN</td>\n",
       "      <td>NaN</td>\n",
       "      <td>NaN</td>\n",
       "      <td>2004</td>\n",
       "      <td>1</td>\n",
       "      <td>False</td>\n",
       "    </tr>\n",
       "    <tr>\n",
       "      <th>1</th>\n",
       "      <td>International Research &amp; Exchanges Board (IREX...</td>\n",
       "      <td>Jan 7, 2004</td>\n",
       "      <td>Full-time Community Connections Intern (paid i...</td>\n",
       "      <td>International Research &amp; Exchanges Board (IREX)</td>\n",
       "      <td>NaN</td>\n",
       "      <td>NaN</td>\n",
       "      <td>NaN</td>\n",
       "      <td>NaN</td>\n",
       "      <td>NaN</td>\n",
       "      <td>3 months</td>\n",
       "      <td>...</td>\n",
       "      <td>NaN</td>\n",
       "      <td>Please submit a cover letter and resume to:\\nI...</td>\n",
       "      <td>NaN</td>\n",
       "      <td>12 January 2004</td>\n",
       "      <td>NaN</td>\n",
       "      <td>The International Research &amp; Exchanges Board (...</td>\n",
       "      <td>NaN</td>\n",
       "      <td>2004</td>\n",
       "      <td>1</td>\n",
       "      <td>False</td>\n",
       "    </tr>\n",
       "    <tr>\n",
       "      <th>2</th>\n",
       "      <td>Caucasus Environmental NGO Network (CENN)\\nJOB...</td>\n",
       "      <td>Jan 7, 2004</td>\n",
       "      <td>Country Coordinator</td>\n",
       "      <td>Caucasus Environmental NGO Network (CENN)</td>\n",
       "      <td>NaN</td>\n",
       "      <td>NaN</td>\n",
       "      <td>NaN</td>\n",
       "      <td>NaN</td>\n",
       "      <td>NaN</td>\n",
       "      <td>Renewable annual contract\\nPOSITION</td>\n",
       "      <td>...</td>\n",
       "      <td>NaN</td>\n",
       "      <td>Please send resume or CV toursula.kazarian@......</td>\n",
       "      <td>NaN</td>\n",
       "      <td>20 January 2004\\nSTART DATE:  February 2004</td>\n",
       "      <td>NaN</td>\n",
       "      <td>The Caucasus Environmental NGO Network is a\\nn...</td>\n",
       "      <td>NaN</td>\n",
       "      <td>2004</td>\n",
       "      <td>1</td>\n",
       "      <td>False</td>\n",
       "    </tr>\n",
       "    <tr>\n",
       "      <th>3</th>\n",
       "      <td>Manoff Group\\nJOB TITLE:  BCC Specialist\\nPOSI...</td>\n",
       "      <td>Jan 7, 2004</td>\n",
       "      <td>BCC Specialist</td>\n",
       "      <td>Manoff Group</td>\n",
       "      <td>NaN</td>\n",
       "      <td>NaN</td>\n",
       "      <td>NaN</td>\n",
       "      <td>NaN</td>\n",
       "      <td>NaN</td>\n",
       "      <td>NaN</td>\n",
       "      <td>...</td>\n",
       "      <td>NaN</td>\n",
       "      <td>Please send cover letter and resume to Amy\\nPe...</td>\n",
       "      <td>NaN</td>\n",
       "      <td>23 January 2004\\nSTART DATE:  Immediate</td>\n",
       "      <td>NaN</td>\n",
       "      <td>NaN</td>\n",
       "      <td>NaN</td>\n",
       "      <td>2004</td>\n",
       "      <td>1</td>\n",
       "      <td>False</td>\n",
       "    </tr>\n",
       "    <tr>\n",
       "      <th>4</th>\n",
       "      <td>Yerevan Brandy Company\\nJOB TITLE:  Software D...</td>\n",
       "      <td>Jan 10, 2004</td>\n",
       "      <td>Software Developer</td>\n",
       "      <td>Yerevan Brandy Company</td>\n",
       "      <td>NaN</td>\n",
       "      <td>NaN</td>\n",
       "      <td>NaN</td>\n",
       "      <td>NaN</td>\n",
       "      <td>NaN</td>\n",
       "      <td>NaN</td>\n",
       "      <td>...</td>\n",
       "      <td>NaN</td>\n",
       "      <td>Successful candidates should submit\\n- CV; \\n-...</td>\n",
       "      <td>NaN</td>\n",
       "      <td>20 January 2004, 18:00</td>\n",
       "      <td>NaN</td>\n",
       "      <td>NaN</td>\n",
       "      <td>NaN</td>\n",
       "      <td>2004</td>\n",
       "      <td>1</td>\n",
       "      <td>True</td>\n",
       "    </tr>\n",
       "    <tr>\n",
       "      <th>...</th>\n",
       "      <td>...</td>\n",
       "      <td>...</td>\n",
       "      <td>...</td>\n",
       "      <td>...</td>\n",
       "      <td>...</td>\n",
       "      <td>...</td>\n",
       "      <td>...</td>\n",
       "      <td>...</td>\n",
       "      <td>...</td>\n",
       "      <td>...</td>\n",
       "      <td>...</td>\n",
       "      <td>...</td>\n",
       "      <td>...</td>\n",
       "      <td>...</td>\n",
       "      <td>...</td>\n",
       "      <td>...</td>\n",
       "      <td>...</td>\n",
       "      <td>...</td>\n",
       "      <td>...</td>\n",
       "      <td>...</td>\n",
       "      <td>...</td>\n",
       "    </tr>\n",
       "    <tr>\n",
       "      <th>18996</th>\n",
       "      <td>Technolinguistics NGO\\n\\n\\nTITLE:  Senior Crea...</td>\n",
       "      <td>Dec 28, 2015</td>\n",
       "      <td>Senior Creative UX/ UI Designer</td>\n",
       "      <td>Technolinguistics NGO</td>\n",
       "      <td>NaN</td>\n",
       "      <td>Full-time</td>\n",
       "      <td>NaN</td>\n",
       "      <td>NaN</td>\n",
       "      <td>NaN</td>\n",
       "      <td>Long-term</td>\n",
       "      <td>...</td>\n",
       "      <td>Competitive</td>\n",
       "      <td>To apply for this position, please send your\\n...</td>\n",
       "      <td>29 December 2015</td>\n",
       "      <td>28 January 2016</td>\n",
       "      <td>NaN</td>\n",
       "      <td>As a company Technolinguistics has a mandate t...</td>\n",
       "      <td>NaN</td>\n",
       "      <td>2015</td>\n",
       "      <td>12</td>\n",
       "      <td>False</td>\n",
       "    </tr>\n",
       "    <tr>\n",
       "      <th>18997</th>\n",
       "      <td>\"Coca-Cola Hellenic Bottling Company Armenia\" ...</td>\n",
       "      <td>Dec 30, 2015</td>\n",
       "      <td>Category Development Manager</td>\n",
       "      <td>\"Coca-Cola Hellenic Bottling Company Armenia\" ...</td>\n",
       "      <td>NaN</td>\n",
       "      <td>Full-time</td>\n",
       "      <td>All interested professionals.</td>\n",
       "      <td>NaN</td>\n",
       "      <td>ASAP</td>\n",
       "      <td>Long-term with a probation period of 3 months.</td>\n",
       "      <td>...</td>\n",
       "      <td>NaN</td>\n",
       "      <td>All interested candidates are kindly requested...</td>\n",
       "      <td>30 December 2015</td>\n",
       "      <td>20 January 2016</td>\n",
       "      <td>NaN</td>\n",
       "      <td>NaN</td>\n",
       "      <td>NaN</td>\n",
       "      <td>2015</td>\n",
       "      <td>12</td>\n",
       "      <td>False</td>\n",
       "    </tr>\n",
       "    <tr>\n",
       "      <th>18998</th>\n",
       "      <td>\"Coca-Cola Hellenic Bottling Company Armenia\" ...</td>\n",
       "      <td>Dec 30, 2015</td>\n",
       "      <td>Operational Marketing Manager</td>\n",
       "      <td>\"Coca-Cola Hellenic Bottling Company Armenia\" ...</td>\n",
       "      <td>NaN</td>\n",
       "      <td>Full-time</td>\n",
       "      <td>All interested professionals.</td>\n",
       "      <td>NaN</td>\n",
       "      <td>ASAP</td>\n",
       "      <td>Long-term with a probation period of 3 months.</td>\n",
       "      <td>...</td>\n",
       "      <td>NaN</td>\n",
       "      <td>All interested candidates are kindly requested...</td>\n",
       "      <td>30 December 2015</td>\n",
       "      <td>20 January 2016</td>\n",
       "      <td>NaN</td>\n",
       "      <td>NaN</td>\n",
       "      <td>NaN</td>\n",
       "      <td>2015</td>\n",
       "      <td>12</td>\n",
       "      <td>False</td>\n",
       "    </tr>\n",
       "    <tr>\n",
       "      <th>18999</th>\n",
       "      <td>San Lazzaro   LLC\\n\\n\\nTITLE:  Head of Online ...</td>\n",
       "      <td>Dec 30, 2015</td>\n",
       "      <td>Head of Online Sales Department</td>\n",
       "      <td>San Lazzaro   LLC</td>\n",
       "      <td>NaN</td>\n",
       "      <td>NaN</td>\n",
       "      <td>NaN</td>\n",
       "      <td>NaN</td>\n",
       "      <td>NaN</td>\n",
       "      <td>Long-term</td>\n",
       "      <td>...</td>\n",
       "      <td>Highly competitive</td>\n",
       "      <td>Interested candidates can send their CVs to:\\n...</td>\n",
       "      <td>30 December 2015</td>\n",
       "      <td>29 January 2016</td>\n",
       "      <td>NaN</td>\n",
       "      <td>San Lazzaro LLC works with several internation...</td>\n",
       "      <td>NaN</td>\n",
       "      <td>2015</td>\n",
       "      <td>12</td>\n",
       "      <td>False</td>\n",
       "    </tr>\n",
       "    <tr>\n",
       "      <th>19000</th>\n",
       "      <td>\"Kamurj\" UCO CJSC\\n\\n\\nTITLE:  Lawyer in Legal...</td>\n",
       "      <td>Dec 30, 2015</td>\n",
       "      <td>Lawyer in Legal Department</td>\n",
       "      <td>\"Kamurj\" UCO CJSC</td>\n",
       "      <td>NaN</td>\n",
       "      <td>Full-time</td>\n",
       "      <td>NaN</td>\n",
       "      <td>NaN</td>\n",
       "      <td>NaN</td>\n",
       "      <td>Indefinite</td>\n",
       "      <td>...</td>\n",
       "      <td>NaN</td>\n",
       "      <td>All qualified applicants are encouraged to\\nsu...</td>\n",
       "      <td>30 December 2015</td>\n",
       "      <td>20 January 2016</td>\n",
       "      <td>NaN</td>\n",
       "      <td>\"Kamurj\" UCO CJSC is providing micro and small...</td>\n",
       "      <td>NaN</td>\n",
       "      <td>2015</td>\n",
       "      <td>12</td>\n",
       "      <td>False</td>\n",
       "    </tr>\n",
       "  </tbody>\n",
       "</table>\n",
       "<p>19001 rows × 24 columns</p>\n",
       "</div>"
      ],
      "text/plain": [
       "                                                 jobpost          date  \\\n",
       "0      AMERIA Investment Consulting Company\\nJOB TITL...   Jan 5, 2004   \n",
       "1      International Research & Exchanges Board (IREX...   Jan 7, 2004   \n",
       "2      Caucasus Environmental NGO Network (CENN)\\nJOB...   Jan 7, 2004   \n",
       "3      Manoff Group\\nJOB TITLE:  BCC Specialist\\nPOSI...   Jan 7, 2004   \n",
       "4      Yerevan Brandy Company\\nJOB TITLE:  Software D...  Jan 10, 2004   \n",
       "...                                                  ...           ...   \n",
       "18996  Technolinguistics NGO\\n\\n\\nTITLE:  Senior Crea...  Dec 28, 2015   \n",
       "18997  \"Coca-Cola Hellenic Bottling Company Armenia\" ...  Dec 30, 2015   \n",
       "18998  \"Coca-Cola Hellenic Bottling Company Armenia\" ...  Dec 30, 2015   \n",
       "18999  San Lazzaro   LLC\\n\\n\\nTITLE:  Head of Online ...  Dec 30, 2015   \n",
       "19000  \"Kamurj\" UCO CJSC\\n\\n\\nTITLE:  Lawyer in Legal...  Dec 30, 2015   \n",
       "\n",
       "                                                   Title  \\\n",
       "0                                Chief Financial Officer   \n",
       "1      Full-time Community Connections Intern (paid i...   \n",
       "2                                    Country Coordinator   \n",
       "3                                         BCC Specialist   \n",
       "4                                     Software Developer   \n",
       "...                                                  ...   \n",
       "18996                    Senior Creative UX/ UI Designer   \n",
       "18997                       Category Development Manager   \n",
       "18998                      Operational Marketing Manager   \n",
       "18999                    Head of Online Sales Department   \n",
       "19000                         Lawyer in Legal Department   \n",
       "\n",
       "                                                 Company AnnouncementCode  \\\n",
       "0                   AMERIA Investment Consulting Company              NaN   \n",
       "1        International Research & Exchanges Board (IREX)              NaN   \n",
       "2              Caucasus Environmental NGO Network (CENN)              NaN   \n",
       "3                                           Manoff Group              NaN   \n",
       "4                                 Yerevan Brandy Company              NaN   \n",
       "...                                                  ...              ...   \n",
       "18996                              Technolinguistics NGO              NaN   \n",
       "18997  \"Coca-Cola Hellenic Bottling Company Armenia\" ...              NaN   \n",
       "18998  \"Coca-Cola Hellenic Bottling Company Armenia\" ...              NaN   \n",
       "18999                                  San Lazzaro   LLC              NaN   \n",
       "19000                                  \"Kamurj\" UCO CJSC              NaN   \n",
       "\n",
       "            Term                    Eligibility Audience StartDate  \\\n",
       "0            NaN                            NaN      NaN       NaN   \n",
       "1            NaN                            NaN      NaN       NaN   \n",
       "2            NaN                            NaN      NaN       NaN   \n",
       "3            NaN                            NaN      NaN       NaN   \n",
       "4            NaN                            NaN      NaN       NaN   \n",
       "...          ...                            ...      ...       ...   \n",
       "18996  Full-time                            NaN      NaN       NaN   \n",
       "18997  Full-time  All interested professionals.      NaN      ASAP   \n",
       "18998  Full-time  All interested professionals.      NaN      ASAP   \n",
       "18999        NaN                            NaN      NaN       NaN   \n",
       "19000  Full-time                            NaN      NaN       NaN   \n",
       "\n",
       "                                             Duration  ...  \\\n",
       "0                                                 NaN  ...   \n",
       "1                                            3 months  ...   \n",
       "2                 Renewable annual contract\\nPOSITION  ...   \n",
       "3                                                 NaN  ...   \n",
       "4                                                 NaN  ...   \n",
       "...                                               ...  ...   \n",
       "18996                                       Long-term  ...   \n",
       "18997  Long-term with a probation period of 3 months.  ...   \n",
       "18998  Long-term with a probation period of 3 months.  ...   \n",
       "18999                                       Long-term  ...   \n",
       "19000                                      Indefinite  ...   \n",
       "\n",
       "                   Salary                                       ApplicationP  \\\n",
       "0                     NaN  To apply for this position, please submit a\\nc...   \n",
       "1                     NaN  Please submit a cover letter and resume to:\\nI...   \n",
       "2                     NaN  Please send resume or CV toursula.kazarian@......   \n",
       "3                     NaN  Please send cover letter and resume to Amy\\nPe...   \n",
       "4                     NaN  Successful candidates should submit\\n- CV; \\n-...   \n",
       "...                   ...                                                ...   \n",
       "18996         Competitive  To apply for this position, please send your\\n...   \n",
       "18997                 NaN  All interested candidates are kindly requested...   \n",
       "18998                 NaN  All interested candidates are kindly requested...   \n",
       "18999  Highly competitive  Interested candidates can send their CVs to:\\n...   \n",
       "19000                 NaN  All qualified applicants are encouraged to\\nsu...   \n",
       "\n",
       "            OpeningDate                                     Deadline Notes  \\\n",
       "0                   NaN                              26 January 2004   NaN   \n",
       "1                   NaN                              12 January 2004   NaN   \n",
       "2                   NaN  20 January 2004\\nSTART DATE:  February 2004   NaN   \n",
       "3                   NaN      23 January 2004\\nSTART DATE:  Immediate   NaN   \n",
       "4                   NaN                       20 January 2004, 18:00   NaN   \n",
       "...                 ...                                          ...   ...   \n",
       "18996  29 December 2015                              28 January 2016   NaN   \n",
       "18997  30 December 2015                              20 January 2016   NaN   \n",
       "18998  30 December 2015                              20 January 2016   NaN   \n",
       "18999  30 December 2015                              29 January 2016   NaN   \n",
       "19000  30 December 2015                              20 January 2016   NaN   \n",
       "\n",
       "                                                  AboutC Attach  Year Month  \\\n",
       "0                                                    NaN    NaN  2004     1   \n",
       "1      The International Research & Exchanges Board (...    NaN  2004     1   \n",
       "2      The Caucasus Environmental NGO Network is a\\nn...    NaN  2004     1   \n",
       "3                                                    NaN    NaN  2004     1   \n",
       "4                                                    NaN    NaN  2004     1   \n",
       "...                                                  ...    ...   ...   ...   \n",
       "18996  As a company Technolinguistics has a mandate t...    NaN  2015    12   \n",
       "18997                                                NaN    NaN  2015    12   \n",
       "18998                                                NaN    NaN  2015    12   \n",
       "18999  San Lazzaro LLC works with several internation...    NaN  2015    12   \n",
       "19000  \"Kamurj\" UCO CJSC is providing micro and small...    NaN  2015    12   \n",
       "\n",
       "          IT  \n",
       "0      False  \n",
       "1      False  \n",
       "2      False  \n",
       "3      False  \n",
       "4       True  \n",
       "...      ...  \n",
       "18996  False  \n",
       "18997  False  \n",
       "18998  False  \n",
       "18999  False  \n",
       "19000  False  \n",
       "\n",
       "[19001 rows x 24 columns]"
      ]
     },
     "execution_count": 3,
     "metadata": {},
     "output_type": "execute_result"
    }
   ],
   "source": [
    "df = pd.read_csv('C:/Users/Lenovo/Downloads/CaseStudy/6. Analyzing online Job Postings/data job posts.csv')\n",
    "df"
   ]
  },
  {
   "cell_type": "code",
   "execution_count": 4,
   "metadata": {},
   "outputs": [
    {
     "name": "stdout",
     "output_type": "stream",
     "text": [
      "<class 'pandas.core.frame.DataFrame'>\n",
      "RangeIndex: 19001 entries, 0 to 19000\n",
      "Data columns (total 24 columns):\n",
      " #   Column            Non-Null Count  Dtype \n",
      "---  ------            --------------  ----- \n",
      " 0   jobpost           19001 non-null  object\n",
      " 1   date              19001 non-null  object\n",
      " 2   Title             18973 non-null  object\n",
      " 3   Company           18994 non-null  object\n",
      " 4   AnnouncementCode  1208 non-null   object\n",
      " 5   Term              7676 non-null   object\n",
      " 6   Eligibility       4930 non-null   object\n",
      " 7   Audience          640 non-null    object\n",
      " 8   StartDate         9675 non-null   object\n",
      " 9   Duration          10798 non-null  object\n",
      " 10  Location          18969 non-null  object\n",
      " 11  JobDescription    15109 non-null  object\n",
      " 12  JobRequirment     16479 non-null  object\n",
      " 13  RequiredQual      18517 non-null  object\n",
      " 14  Salary            9622 non-null   object\n",
      " 15  ApplicationP      18941 non-null  object\n",
      " 16  OpeningDate       18295 non-null  object\n",
      " 17  Deadline          18936 non-null  object\n",
      " 18  Notes             2211 non-null   object\n",
      " 19  AboutC            12470 non-null  object\n",
      " 20  Attach            1559 non-null   object\n",
      " 21  Year              19001 non-null  int64 \n",
      " 22  Month             19001 non-null  int64 \n",
      " 23  IT                19001 non-null  bool  \n",
      "dtypes: bool(1), int64(2), object(21)\n",
      "memory usage: 3.4+ MB\n"
     ]
    }
   ],
   "source": [
    "df.info()"
   ]
  },
  {
   "cell_type": "code",
   "execution_count": 5,
   "metadata": {},
   "outputs": [],
   "source": [
    "df.drop(['AnnouncementCode','Term','Eligibility','Audience','StartDate','Duration','Location','Salary','ApplicationP','OpeningDate','Deadline','Notes','AnnouncementCode','Term','Eligibility','Audience','StartDate','Duration','Location','Salary','ApplicationP','OpeningDate','Deadline','Notes','Attach','Year','Month'],axis=1,inplace=True)"
   ]
  },
  {
   "cell_type": "code",
   "execution_count": 6,
   "metadata": {},
   "outputs": [],
   "source": [
    "df.drop(['AboutC'],axis=1,inplace=True)"
   ]
  },
  {
   "cell_type": "code",
   "execution_count": 7,
   "metadata": {},
   "outputs": [
    {
     "data": {
      "text/plain": [
       "(19001, 8)"
      ]
     },
     "execution_count": 7,
     "metadata": {},
     "output_type": "execute_result"
    }
   ],
   "source": [
    "df.shape"
   ]
  },
  {
   "cell_type": "code",
   "execution_count": 8,
   "metadata": {},
   "outputs": [],
   "source": [
    "df.dropna(inplace=True)"
   ]
  },
  {
   "cell_type": "code",
   "execution_count": 9,
   "metadata": {},
   "outputs": [
    {
     "data": {
      "text/plain": [
       "jobpost           False\n",
       "date              False\n",
       "Title             False\n",
       "Company           False\n",
       "JobDescription    False\n",
       "JobRequirment     False\n",
       "RequiredQual      False\n",
       "IT                False\n",
       "dtype: bool"
      ]
     },
     "execution_count": 9,
     "metadata": {},
     "output_type": "execute_result"
    }
   ],
   "source": [
    "df.isna().any()"
   ]
  },
  {
   "cell_type": "code",
   "execution_count": 10,
   "metadata": {},
   "outputs": [],
   "source": [
    "df['date']= pd.to_datetime(df.date, errors = 'coerce')"
   ]
  },
  {
   "cell_type": "markdown",
   "metadata": {},
   "source": [
    "#### Jobs which are demand in armenia "
   ]
  },
  {
   "cell_type": "code",
   "execution_count": 11,
   "metadata": {},
   "outputs": [
    {
     "data": {
      "image/png": "[encoded data removed]",
      "text/plain": [
       "<Figure size 432x288 with 1 Axes>"
      ]
     },
     "metadata": {
      "needs_background": "light"
     },
     "output_type": "display_data"
    },
    {
     "data": {
      "text/plain": [
       "<Figure size 7200x7200 with 0 Axes>"
      ]
     },
     "metadata": {},
     "output_type": "display_data"
    }
   ],
   "source": [
    "df.Title.value_counts().head(25).plot(kind='bar')\n",
    "plt.figure(figsize=(100,100))\n",
    "plt.show()"
   ]
  },
  {
   "cell_type": "markdown",
   "metadata": {},
   "source": [
    "### No of job post opening per year"
   ]
  },
  {
   "cell_type": "code",
   "execution_count": 12,
   "metadata": {},
   "outputs": [
    {
     "data": {
      "text/plain": [
       "Year\n",
       "2004.0     451\n",
       "2005.0     555\n",
       "2006.0     609\n",
       "2007.0     900\n",
       "2008.0    1064\n",
       "2009.0     706\n",
       "2010.0     893\n",
       "2011.0    1111\n",
       "2012.0    1494\n",
       "2013.0    1387\n",
       "2014.0    1404\n",
       "2015.0     917\n",
       "Name: Title, dtype: int64"
      ]
     },
     "execution_count": 12,
     "metadata": {},
     "output_type": "execute_result"
    }
   ],
   "source": [
    "q=pd.DataFrame({'Year':pd.to_datetime(df['date']).dt.year,'Title':df['Title']})\n",
    "q=q.groupby('Year')['Title'].count()\n",
    "q"
   ]
  },
  {
   "cell_type": "code",
   "execution_count": 13,
   "metadata": {},
   "outputs": [
    {
     "data": {
      "image/png": "[encoded data removed]",
      "text/plain": [
       "<Figure size 432x288 with 1 Axes>"
      ]
     },
     "metadata": {
      "needs_background": "light"
     },
     "output_type": "display_data"
    },
    {
     "data": {
      "text/plain": [
       "<Figure size 2880x2880 with 0 Axes>"
      ]
     },
     "metadata": {},
     "output_type": "display_data"
    }
   ],
   "source": [
    "q.plot(kind='bar')\n",
    "plt.figure(figsize=(40,40))\n",
    "plt.show()"
   ]
  },
  {
   "cell_type": "markdown",
   "metadata": {},
   "source": [
    "### Top job post 2004 -2015 "
   ]
  },
  {
   "cell_type": "code",
   "execution_count": 14,
   "metadata": {},
   "outputs": [
    {
     "data": {
      "text/plain": [
       "<matplotlib.axes._subplots.AxesSubplot at 0x2640fc696d0>"
      ]
     },
     "execution_count": 14,
     "metadata": {},
     "output_type": "execute_result"
    },
    {
     "data": {
      "image/png": "[encoded data removed]",
      "text/plain": [
       "<Figure size 432x288 with 1 Axes>"
      ]
     },
     "metadata": {
      "needs_background": "light"
     },
     "output_type": "display_data"
    }
   ],
   "source": [
    "## Year 2004\n",
    "df[df['date'].dt.year == 2004].groupby('Title')['Title'].count().sort_values(ascending=False).head(15).plot(kind='bar')"
   ]
  },
  {
   "cell_type": "code",
   "execution_count": 15,
   "metadata": {},
   "outputs": [
    {
     "data": {
      "text/plain": [
       "<matplotlib.axes._subplots.AxesSubplot at 0x26416326e50>"
      ]
     },
     "execution_count": 15,
     "metadata": {},
     "output_type": "execute_result"
    },
    {
     "data": {
      "image/png": "[encoded data removed]",
      "text/plain": [
       "<Figure size 432x288 with 1 Axes>"
      ]
     },
     "metadata": {
      "needs_background": "light"
     },
     "output_type": "display_data"
    }
   ],
   "source": [
    "## 2005\n",
    "df[df['date'].dt.year == 2005].groupby('Title')['Title'].count().sort_values(ascending=False).head(15).plot(kind='bar')"
   ]
  },
  {
   "cell_type": "code",
   "execution_count": 16,
   "metadata": {},
   "outputs": [
    {
     "data": {
      "text/plain": [
       "<matplotlib.axes._subplots.AxesSubplot at 0x264162f08b0>"
      ]
     },
     "execution_count": 16,
     "metadata": {},
     "output_type": "execute_result"
    },
    {
     "data": {
      "image/png": "[encoded data removed]",
      "text/plain": [
       "<Figure size 432x288 with 1 Axes>"
      ]
     },
     "metadata": {
      "needs_background": "light"
     },
     "output_type": "display_data"
    }
   ],
   "source": [
    "df[df['date'].dt.year == 2006].groupby('Title')['Title'].count().sort_values(ascending=False).head(15).plot(kind='bar')"
   ]
  },
  {
   "cell_type": "code",
   "execution_count": 17,
   "metadata": {},
   "outputs": [
    {
     "data": {
      "text/plain": [
       "<matplotlib.axes._subplots.AxesSubplot at 0x2641616e7c0>"
      ]
     },
     "execution_count": 17,
     "metadata": {},
     "output_type": "execute_result"
    },
    {
     "data": {
      "image/png": "[encoded data removed]",
      "text/plain": [
       "<Figure size 432x288 with 1 Axes>"
      ]
     },
     "metadata": {
      "needs_background": "light"
     },
     "output_type": "display_data"
    }
   ],
   "source": [
    "df[df['date'].dt.year == 2007].groupby('Title')['Title'].count().sort_values(ascending=False).head(15).plot(kind='bar')"
   ]
  },
  {
   "cell_type": "code",
   "execution_count": 18,
   "metadata": {},
   "outputs": [
    {
     "data": {
      "text/plain": [
       "<matplotlib.axes._subplots.AxesSubplot at 0x2640fba3730>"
      ]
     },
     "execution_count": 18,
     "metadata": {},
     "output_type": "execute_result"
    },
    {
     "data": {
      "image/png": "[encoded data removed]",
      "text/plain": [
       "<Figure size 432x288 with 1 Axes>"
      ]
     },
     "metadata": {
      "needs_background": "light"
     },
     "output_type": "display_data"
    }
   ],
   "source": [
    "df[df['date'].dt.year == 2008].groupby('Title')['Title'].count().sort_values(ascending=False).head(15).plot(kind='bar')"
   ]
  },
  {
   "cell_type": "code",
   "execution_count": 19,
   "metadata": {},
   "outputs": [
    {
     "data": {
      "text/plain": [
       "<matplotlib.axes._subplots.AxesSubplot at 0x2641037f130>"
      ]
     },
     "execution_count": 19,
     "metadata": {},
     "output_type": "execute_result"
    },
    {
     "data": {
      "image/png": "[encoded data removed]",
      "text/plain": [
       "<Figure size 432x288 with 1 Axes>"
      ]
     },
     "metadata": {
      "needs_background": "light"
     },
     "output_type": "display_data"
    }
   ],
   "source": [
    "df[df['date'].dt.year == 2009].groupby('Title')['Title'].count().sort_values(ascending=False).head(15).plot(kind='bar')"
   ]
  },
  {
   "cell_type": "code",
   "execution_count": 20,
   "metadata": {},
   "outputs": [
    {
     "data": {
      "text/plain": [
       "<matplotlib.axes._subplots.AxesSubplot at 0x26410406a90>"
      ]
     },
     "execution_count": 20,
     "metadata": {},
     "output_type": "execute_result"
    },
    {
     "data": {
      "image/png": "[encoded data removed]",
      "text/plain": [
       "<Figure size 432x288 with 1 Axes>"
      ]
     },
     "metadata": {
      "needs_background": "light"
     },
     "output_type": "display_data"
    }
   ],
   "source": [
    "df[df['date'].dt.year == 2010].groupby('Title')['Title'].count().sort_values(ascending=False).head(15).plot(kind='bar')"
   ]
  },
  {
   "cell_type": "code",
   "execution_count": 21,
   "metadata": {},
   "outputs": [
    {
     "data": {
      "text/plain": [
       "<matplotlib.axes._subplots.AxesSubplot at 0x26410476790>"
      ]
     },
     "execution_count": 21,
     "metadata": {},
     "output_type": "execute_result"
    },
    {
     "data": {
      "image/png": "[encoded data removed]",
      "text/plain": [
       "<Figure size 432x288 with 1 Axes>"
      ]
     },
     "metadata": {
      "needs_background": "light"
     },
     "output_type": "display_data"
    }
   ],
   "source": [
    "df[df['date'].dt.year == 2011].groupby('Title')['Title'].count().sort_values(ascending=False).head(15).plot(kind='bar')"
   ]
  },
  {
   "cell_type": "code",
   "execution_count": 22,
   "metadata": {},
   "outputs": [
    {
     "data": {
      "text/plain": [
       "<matplotlib.axes._subplots.AxesSubplot at 0x264104fedf0>"
      ]
     },
     "execution_count": 22,
     "metadata": {},
     "output_type": "execute_result"
    },
    {
     "data": {
      "image/png": "[encoded data removed]",
      "text/plain": [
       "<Figure size 432x288 with 1 Axes>"
      ]
     },
     "metadata": {
      "needs_background": "light"
     },
     "output_type": "display_data"
    }
   ],
   "source": [
    "df[df['date'].dt.year == 2012].groupby('Title')['Title'].count().sort_values(ascending=False).head(15).plot(kind='bar')"
   ]
  },
  {
   "cell_type": "code",
   "execution_count": 23,
   "metadata": {},
   "outputs": [
    {
     "data": {
      "text/plain": [
       "<matplotlib.axes._subplots.AxesSubplot at 0x264104f6b80>"
      ]
     },
     "execution_count": 23,
     "metadata": {},
     "output_type": "execute_result"
    },
    {
     "data": {
      "image/png": "[encoded data removed]",
      "text/plain": [
       "<Figure size 432x288 with 1 Axes>"
      ]
     },
     "metadata": {
      "needs_background": "light"
     },
     "output_type": "display_data"
    }
   ],
   "source": [
    "df[df['date'].dt.year == 2013].groupby('Title')['Title'].count().sort_values(ascending=False).head(15).plot(kind='bar')"
   ]
  },
  {
   "cell_type": "code",
   "execution_count": 24,
   "metadata": {},
   "outputs": [
    {
     "data": {
      "text/plain": [
       "<matplotlib.axes._subplots.AxesSubplot at 0x264105034c0>"
      ]
     },
     "execution_count": 24,
     "metadata": {},
     "output_type": "execute_result"
    },
    {
     "data": {
      "image/png": "[encoded data removed]",
      "text/plain": [
       "<Figure size 432x288 with 1 Axes>"
      ]
     },
     "metadata": {
      "needs_background": "light"
     },
     "output_type": "display_data"
    }
   ],
   "source": [
    "df[df['date'].dt.year == 2014].groupby('Title')['Title'].count().sort_values(ascending=False).head(15).plot(kind='bar')"
   ]
  },
  {
   "cell_type": "code",
   "execution_count": 25,
   "metadata": {},
   "outputs": [
    {
     "data": {
      "text/plain": [
       "<matplotlib.axes._subplots.AxesSubplot at 0x2641051dbb0>"
      ]
     },
     "execution_count": 25,
     "metadata": {},
     "output_type": "execute_result"
    },
    {
     "data": {
      "image/png": "[encoded data removed]",
      "text/plain": [
       "<Figure size 432x288 with 1 Axes>"
      ]
     },
     "metadata": {
      "needs_background": "light"
     },
     "output_type": "display_data"
    }
   ],
   "source": [
    "df[df['date'].dt.year == 2015].groupby('Title')['Title'].count().sort_values(ascending=False).head(15).plot(kind='bar')"
   ]
  },
  {
   "cell_type": "code",
   "execution_count": null,
   "metadata": {},
   "outputs": [],
   "source": []
  },
  {
   "cell_type": "code",
   "execution_count": 26,
   "metadata": {},
   "outputs": [],
   "source": [
    "x=df['RequiredQual']\n",
    "y=df['IT']"
   ]
  },
  {
   "cell_type": "code",
   "execution_count": 27,
   "metadata": {},
   "outputs": [
    {
     "data": {
      "text/plain": [
       "<matplotlib.axes._subplots.AxesSubplot at 0x26410485910>"
      ]
     },
     "execution_count": 27,
     "metadata": {},
     "output_type": "execute_result"
    },
    {
     "data": {
      "image/png": "[encoded data removed]",
      "text/plain": [
       "<Figure size 432x288 with 1 Axes>"
      ]
     },
     "metadata": {
      "needs_background": "light"
     },
     "output_type": "display_data"
    }
   ],
   "source": [
    "y.value_counts().plot(kind='bar')"
   ]
  },
  {
   "cell_type": "code",
   "execution_count": null,
   "metadata": {},
   "outputs": [],
   "source": []
  },
  {
   "cell_type": "markdown",
   "metadata": {},
   "source": [
    "### Finding desired characteristics and skillset using Topic modeling"
   ]
  },
  {
   "cell_type": "code",
   "execution_count": 28,
   "metadata": {},
   "outputs": [],
   "source": [
    "## finding how there are desired characteristics changing over time.\n",
    "   ### analysing the changes after 5-6 years"
   ]
  },
  {
   "cell_type": "code",
   "execution_count": 29,
   "metadata": {},
   "outputs": [
    {
     "name": "stdout",
     "output_type": "stream",
     "text": [
      "<class 'pandas.core.frame.DataFrame'>\n",
      "Int64Index: 13124 entries, 0 to 19000\n",
      "Data columns (total 8 columns):\n",
      " #   Column          Non-Null Count  Dtype         \n",
      "---  ------          --------------  -----         \n",
      " 0   jobpost         13124 non-null  object        \n",
      " 1   date            11491 non-null  datetime64[ns]\n",
      " 2   Title           13124 non-null  object        \n",
      " 3   Company         13124 non-null  object        \n",
      " 4   JobDescription  13124 non-null  object        \n",
      " 5   JobRequirment   13124 non-null  object        \n",
      " 6   RequiredQual    13124 non-null  object        \n",
      " 7   IT              13124 non-null  bool          \n",
      "dtypes: bool(1), datetime64[ns](1), object(6)\n",
      "memory usage: 833.1+ KB\n"
     ]
    }
   ],
   "source": [
    "df.info()"
   ]
  },
  {
   "cell_type": "code",
   "execution_count": 30,
   "metadata": {},
   "outputs": [],
   "source": [
    "c=pd.DataFrame(df.loc[(df['date'].dt.year >= 2004) & (df['date'].dt.year <2010),'JobDescription'])"
   ]
  },
  {
   "cell_type": "code",
   "execution_count": 31,
   "metadata": {},
   "outputs": [],
   "source": [
    "c.reset_index(inplace=True)"
   ]
  },
  {
   "cell_type": "code",
   "execution_count": 32,
   "metadata": {},
   "outputs": [],
   "source": [
    "corpus =[]\n",
    "for i in range(0,len(c)):\n",
    "    review = re.sub(r'\\W', ' ', str(c.JobDescription[i]))\n",
    "    review = review.lower()\n",
    "    review = re.sub(r'^br$', ' ', review)\n",
    "    review = re.sub(r'^[a-z]\\s+', '', review)\n",
    "    review = re.sub(r'\\s+', ' ', review)\n",
    "    corpus.append(review)  "
   ]
  },
  {
   "cell_type": "code",
   "execution_count": 33,
   "metadata": {},
   "outputs": [
    {
     "data": {
      "text/plain": [
       "'ameria investment consulting company is seeking a chief financial officer this position manages the company s fiscal and administrative functions provides highly responsible and technically complex staff assistance to the executive director the work performed requires a high level of technical proficiency in financial management and investment management as well as management supervisory and administrative skills '"
      ]
     },
     "execution_count": 33,
     "metadata": {},
     "output_type": "execute_result"
    }
   ],
   "source": [
    "corpus[0]"
   ]
  },
  {
   "cell_type": "code",
   "execution_count": 34,
   "metadata": {},
   "outputs": [
    {
     "data": {
      "text/plain": [
       "4285"
      ]
     },
     "execution_count": 34,
     "metadata": {},
     "output_type": "execute_result"
    }
   ],
   "source": [
    "len(corpus)"
   ]
  },
  {
   "cell_type": "code",
   "execution_count": 35,
   "metadata": {},
   "outputs": [],
   "source": [
    "lemmatize = WordNetLemmatizer()\n",
    "for i in range(len(corpus)):\n",
    "    words =nltk.word_tokenize(corpus[i])\n",
    "    words=[lemmatize.lemmatize(word) for word in words]\n",
    "    corpus[i]= ' '.join(words)"
   ]
  },
  {
   "cell_type": "code",
   "execution_count": 36,
   "metadata": {},
   "outputs": [
    {
     "data": {
      "text/plain": [
       "4285"
      ]
     },
     "execution_count": 36,
     "metadata": {},
     "output_type": "execute_result"
    }
   ],
   "source": [
    "len(corpus)"
   ]
  },
  {
   "cell_type": "code",
   "execution_count": 37,
   "metadata": {},
   "outputs": [],
   "source": [
    "for i in range(len(corpus)):\n",
    "    words = nltk.word_tokenize(corpus[i])\n",
    "    words = [word for word in words if word not in stopwords.words('english')]\n",
    "    corpus[i] = ' '.join(words)"
   ]
  },
  {
   "cell_type": "code",
   "execution_count": 38,
   "metadata": {},
   "outputs": [
    {
     "data": {
      "text/plain": [
       "4285"
      ]
     },
     "execution_count": 38,
     "metadata": {},
     "output_type": "execute_result"
    }
   ],
   "source": [
    "len(corpus)"
   ]
  },
  {
   "cell_type": "code",
   "execution_count": 39,
   "metadata": {},
   "outputs": [
    {
     "data": {
      "text/plain": [
       "'ameria investment consulting company seeking chief financial officer position manages company fiscal administrative function provides highly responsible technically complex staff assistance executive director work performed requires high level technical proficiency financial management investment management well management supervisory administrative skill'"
      ]
     },
     "execution_count": 39,
     "metadata": {},
     "output_type": "execute_result"
    }
   ],
   "source": [
    "corpus[0]"
   ]
  },
  {
   "cell_type": "code",
   "execution_count": 40,
   "metadata": {},
   "outputs": [],
   "source": [
    "stop_words = ['position','looking','candidate','company','seeking','armenia']"
   ]
  },
  {
   "cell_type": "code",
   "execution_count": 41,
   "metadata": {},
   "outputs": [],
   "source": [
    "tf=TfidfVectorizer(max_df=.6,stop_words=stop_words)\n",
    "tf_df = tf.fit_transform(corpus).toarray()"
   ]
  },
  {
   "cell_type": "code",
   "execution_count": 42,
   "metadata": {},
   "outputs": [
    {
     "data": {
      "text/plain": [
       "(4285, 5632)"
      ]
     },
     "execution_count": 42,
     "metadata": {},
     "output_type": "execute_result"
    }
   ],
   "source": [
    "pd.DataFrame(tf_df).shape"
   ]
  },
  {
   "cell_type": "code",
   "execution_count": 43,
   "metadata": {},
   "outputs": [],
   "source": [
    "from sklearn.decomposition import TruncatedSVD\n",
    "lsa = TruncatedSVD(n_components=4)\n",
    "lsa.fit(tf_df)\n",
    "concept_words={}\n",
    "names=tf.get_feature_names()\n",
    "for i ,j in enumerate(lsa.components_):\n",
    "    component_terms = zip(names,j)\n",
    "    sortedTerms = sorted(component_terms,key=lambda x:x[1],reverse=True)\n",
    "    sortedTerms = sortedTerms[:20]\n",
    "    concept_words[\"Concept \"+str(i)] = sortedTerms\n"
   ]
  },
  {
   "cell_type": "code",
   "execution_count": 44,
   "metadata": {},
   "outputs": [
    {
     "data": {
      "text/plain": [
       "{'Concept 0': [('project', 0.2571734442228109),\n",
       "  ('development', 0.19025388415349218),\n",
       "  ('software', 0.18941918669770227),\n",
       "  ('responsible', 0.16177233278274608),\n",
       "  ('manager', 0.15772346590477954),\n",
       "  ('work', 0.1551774585590202),\n",
       "  ('incumbent', 0.1476409184241651),\n",
       "  ('developer', 0.13497664480103835),\n",
       "  ('team', 0.12652625313492194),\n",
       "  ('office', 0.1260136621473861),\n",
       "  ('service', 0.1252564369650346),\n",
       "  ('system', 0.1230637111354616),\n",
       "  ('product', 0.12179786873654737),\n",
       "  ('motivated', 0.11962763146115052),\n",
       "  ('support', 0.11212870320320789),\n",
       "  ('highly', 0.10919814635078098),\n",
       "  ('supervision', 0.10853824235268411),\n",
       "  ('sale', 0.10731742666927985),\n",
       "  ('qualified', 0.1060738398776411),\n",
       "  ('program', 0.10491216418232972)],\n",
       " 'Concept 1': [('software', 0.3419161805091463),\n",
       "  ('developer', 0.2820060536820413),\n",
       "  ('java', 0.20200207535602596),\n",
       "  ('long', 0.19873814325345152),\n",
       "  ('term', 0.1922273660105525),\n",
       "  ('product', 0.18231200896966232),\n",
       "  ('entail', 0.15227876730684492),\n",
       "  ('actively', 0.1502068283744329),\n",
       "  ('complex', 0.14385716595866477),\n",
       "  ('project', 0.14146859936530135),\n",
       "  ('epam', 0.11945243975906376),\n",
       "  ('web', 0.11263480537293452),\n",
       "  ('net', 0.11040726540739612),\n",
       "  ('solution', 0.10880318811369262),\n",
       "  ('engineer', 0.10274849044456359),\n",
       "  ('system', 0.10154724865255124),\n",
       "  ('development', 0.09928396026772518),\n",
       "  ('working', 0.09871918541894155),\n",
       "  ('microsoft', 0.09459831762301305),\n",
       "  ('engaged', 0.09071486833835982)],\n",
       " 'Concept 2': [('software', 0.2955450175614464),\n",
       "  ('highly', 0.2687726954829565),\n",
       "  ('motivated', 0.24343591028019362),\n",
       "  ('qualified', 0.22142963629746962),\n",
       "  ('web', 0.17655137299371962),\n",
       "  ('practical', 0.14744247871694427),\n",
       "  ('experience', 0.14552560675929857),\n",
       "  ('deep', 0.1425749551562827),\n",
       "  ('person', 0.1358102786171248),\n",
       "  ('programming', 0.13129445768489267),\n",
       "  ('knowledge', 0.12986136041325058),\n",
       "  ('llc', 0.12390603382667643),\n",
       "  ('experienced', 0.11850293481715497),\n",
       "  ('fulfill', 0.10978924948720357),\n",
       "  ('engineer', 0.10178825558446157),\n",
       "  ('development', 0.09255033565034249),\n",
       "  ('cjsc', 0.08991544576663456),\n",
       "  ('design', 0.0898462603029145),\n",
       "  ('professional', 0.08720772394844908),\n",
       "  ('accountant', 0.08557812684933737)],\n",
       " 'Concept 3': [('software', 0.2734826387022914),\n",
       "  ('quality', 0.21569436921352306),\n",
       "  ('design', 0.15728533671626113),\n",
       "  ('primary', 0.15044226289215895),\n",
       "  ('objective', 0.14736897833502596),\n",
       "  ('engineer', 0.14388046077405633),\n",
       "  ('development', 0.13454401594726026),\n",
       "  ('required', 0.12877434302210897),\n",
       "  ('member', 0.12406984732019465),\n",
       "  ('produce', 0.12125675839220883),\n",
       "  ('implementation', 0.12121892382725989),\n",
       "  ('conjunction', 0.11696205976809533),\n",
       "  ('high', 0.10424139658102806),\n",
       "  ('test', 0.10309283924293233),\n",
       "  ('team', 0.10278728319829344),\n",
       "  ('process', 0.09266556915150335),\n",
       "  ('technical', 0.09148339433789135),\n",
       "  ('testing', 0.08776442319531803),\n",
       "  ('timely', 0.08707118263473947),\n",
       "  ('program', 0.07835951967935799)]}"
      ]
     },
     "execution_count": 44,
     "metadata": {},
     "output_type": "execute_result"
    }
   ],
   "source": [
    "concept_words"
   ]
  },
  {
   "cell_type": "code",
   "execution_count": 45,
   "metadata": {},
   "outputs": [],
   "source": [
    "c=pd.DataFrame(df.loc[(df['date'].dt.year >= 2010) & (df['date'].dt.year <2016),'JobDescription'])\n",
    "c.reset_index(inplace=True)\n",
    "corpus =[]\n",
    "for i in range(0,len(c)):\n",
    "    review = re.sub(r'\\W', ' ', str(c.JobDescription[i]))\n",
    "    review = review.lower()\n",
    "    review = re.sub(r'^br$', ' ', review)\n",
    "    review = re.sub(r'^[a-z]\\s+', '', review)\n",
    "    review = re.sub(r'\\s+', ' ', review)\n",
    "    corpus.append(review)  "
   ]
  },
  {
   "cell_type": "code",
   "execution_count": 46,
   "metadata": {},
   "outputs": [],
   "source": [
    "tf=TfidfVectorizer(max_df=.6,stop_words=stopwords.words('english'))\n",
    "tf_df = tf.fit_transform(corpus).toarray()"
   ]
  },
  {
   "cell_type": "code",
   "execution_count": 47,
   "metadata": {},
   "outputs": [],
   "source": [
    "from sklearn.decomposition import TruncatedSVD\n",
    "lsa = TruncatedSVD(n_components=4)\n",
    "lsa.fit(tf_df)\n",
    "concept_words={}\n",
    "names=tf.get_feature_names()\n",
    "for i ,j in enumerate(lsa.components_):\n",
    "    component_terms = zip(names,j)\n",
    "    sortedTerms = sorted(component_terms,key=lambda x:x[1],reverse=True)\n",
    "    sortedTerms = sortedTerms[:20]\n",
    "    concept_words[\"Concept \"+str(i)] = sortedTerms"
   ]
  },
  {
   "cell_type": "code",
   "execution_count": 48,
   "metadata": {},
   "outputs": [
    {
     "data": {
      "text/plain": [
       "{'Concept 0': [('looking', 0.21524819972770054),\n",
       "  ('development', 0.2071058574803331),\n",
       "  ('company', 0.20539901427185792),\n",
       "  ('software', 0.20021592573620725),\n",
       "  ('responsible', 0.19664501692240388),\n",
       "  ('incumbent', 0.1839141076988513),\n",
       "  ('position', 0.1654912042499906),\n",
       "  ('team', 0.15408346174397647),\n",
       "  ('seeking', 0.14802291576523),\n",
       "  ('llc', 0.1467573801521887),\n",
       "  ('manager', 0.13592107398031886),\n",
       "  ('developer', 0.13277782772088104),\n",
       "  ('work', 0.12733183409183885),\n",
       "  ('project', 0.12576736270228844),\n",
       "  ('candidate', 0.12214421217288188),\n",
       "  ('motivated', 0.12049595108171614),\n",
       "  ('applications', 0.11445245721790372),\n",
       "  ('sales', 0.11265801893551884),\n",
       "  ('web', 0.10824595500165639),\n",
       "  ('cjsc', 0.10795821915036145)],\n",
       " 'Concept 1': [('software', 0.34982115566840233),\n",
       "  ('developer', 0.2594965563160414),\n",
       "  ('web', 0.16684979511821832),\n",
       "  ('applications', 0.15100112743110453),\n",
       "  ('senior', 0.14731013028193418),\n",
       "  ('looking', 0.13793465466010035),\n",
       "  ('llc', 0.12038306428061797),\n",
       "  ('development', 0.11870714095781254),\n",
       "  ('engineer', 0.11230714128433616),\n",
       "  ('team', 0.10909275620014022),\n",
       "  ('long', 0.09926212489493061),\n",
       "  ('term', 0.09402112189153387),\n",
       "  ('java', 0.08986750569448583),\n",
       "  ('projects', 0.0863319186421588),\n",
       "  ('global', 0.08446418066021945),\n",
       "  ('motivated', 0.08306722990564568),\n",
       "  ('design', 0.07995714424511334),\n",
       "  ('engaged', 0.079448129870985),\n",
       "  ('net', 0.07618627354608727),\n",
       "  ('experienced', 0.07404276650058919)],\n",
       " 'Concept 2': [('looking', 0.28250954068718653),\n",
       "  ('position', 0.2800466017021337),\n",
       "  ('llc', 0.2190314401394992),\n",
       "  ('motivated', 0.20380952286508935),\n",
       "  ('qualified', 0.20136939196797676),\n",
       "  ('cjsc', 0.16710582542833985),\n",
       "  ('fulfill', 0.1546843996662326),\n",
       "  ('candidate', 0.1465292425271635),\n",
       "  ('seeking', 0.1348493341169932),\n",
       "  ('specialist', 0.12066559229673422),\n",
       "  ('manager', 0.11868105273888221),\n",
       "  ('professional', 0.11503830597908302),\n",
       "  ('experienced', 0.10850748139087278),\n",
       "  ('accountant', 0.1010181343683924),\n",
       "  ('highly', 0.10065659895916888),\n",
       "  ('fill', 0.09790194258467556),\n",
       "  ('sales', 0.0878308102183575),\n",
       "  ('person', 0.07687221526375201),\n",
       "  ('haypost', 0.07524009725606425),\n",
       "  ('bank', 0.07346076964315482)],\n",
       " 'Concept 3': [('company', 0.3496588833592547),\n",
       "  ('president', 0.29365387634781903),\n",
       "  ('supervision', 0.23677990159127904),\n",
       "  ('direct', 0.2325621617264666),\n",
       "  ('accounting', 0.22819991323524336),\n",
       "  ('covering', 0.22672558950672572),\n",
       "  ('desk', 0.2245561181587426),\n",
       "  ('front', 0.2223436911965864),\n",
       "  ('primarily', 0.19981859878436145),\n",
       "  ('candidate', 0.13500649310693957),\n",
       "  ('work', 0.12807886083883627),\n",
       "  ('accountant', 0.1036464891031448),\n",
       "  ('routine', 0.09955871806511975),\n",
       "  ('contracted', 0.09536716319962982),\n",
       "  ('developer', 0.08897190895317933),\n",
       "  ('association', 0.0886001965977213),\n",
       "  ('selected', 0.0862227033733125),\n",
       "  ('perform', 0.08470038345704423),\n",
       "  ('duties', 0.0846732505685853),\n",
       "  ('software', 0.06089233314957588)]}"
      ]
     },
     "execution_count": 48,
     "metadata": {},
     "output_type": "execute_result"
    }
   ],
   "source": [
    "concept_words"
   ]
  },
  {
   "cell_type": "markdown",
   "metadata": {},
   "source": [
    "### IT job classifier and identying the factors "
   ]
  },
  {
   "cell_type": "code",
   "execution_count": 49,
   "metadata": {},
   "outputs": [],
   "source": [
    "x = df['Title'].reset_index()"
   ]
  },
  {
   "cell_type": "code",
   "execution_count": 50,
   "metadata": {},
   "outputs": [],
   "source": [
    "corpus =[]\n",
    "for i in range(0,len(x.Title)):\n",
    "    review = re.sub(r'\\W', ' ', str(x.Title[i]))\n",
    "    review = review.lower()\n",
    "    review = re.sub(r'^br$', ' ', review)\n",
    "    review = re.sub(r'^[a-z]\\s+', '', review)\n",
    "    review = re.sub(r'\\s+', ' ', review)\n",
    "    corpus.append(review)  "
   ]
  },
  {
   "cell_type": "code",
   "execution_count": 51,
   "metadata": {},
   "outputs": [
    {
     "data": {
      "text/plain": [
       "13124"
      ]
     },
     "execution_count": 51,
     "metadata": {},
     "output_type": "execute_result"
    }
   ],
   "source": [
    "len(corpus)"
   ]
  },
  {
   "cell_type": "code",
   "execution_count": 52,
   "metadata": {},
   "outputs": [],
   "source": [
    "y=df['IT']"
   ]
  },
  {
   "cell_type": "code",
   "execution_count": 53,
   "metadata": {},
   "outputs": [],
   "source": [
    "vectorizer = TfidfVectorizer(max_df=.8)\n",
    "data = vectorizer.fit_transform(corpus).toarray()"
   ]
  },
  {
   "cell_type": "code",
   "execution_count": 54,
   "metadata": {},
   "outputs": [],
   "source": [
    "mydata =pd.DataFrame(data,columns=vectorizer.get_feature_names())"
   ]
  },
  {
   "cell_type": "code",
   "execution_count": 55,
   "metadata": {},
   "outputs": [
    {
     "data": {
      "text/plain": [
       "(13124, 2285)"
      ]
     },
     "execution_count": 55,
     "metadata": {},
     "output_type": "execute_result"
    }
   ],
   "source": [
    "mydata.shape"
   ]
  },
  {
   "cell_type": "code",
   "execution_count": 56,
   "metadata": {},
   "outputs": [
    {
     "data": {
      "text/plain": [
       "False    2285\n",
       "dtype: int64"
      ]
     },
     "execution_count": 56,
     "metadata": {},
     "output_type": "execute_result"
    }
   ],
   "source": [
    "mydata.isna().any().value_counts()"
   ]
  },
  {
   "cell_type": "code",
   "execution_count": 57,
   "metadata": {},
   "outputs": [],
   "source": [
    "mydata['It']=df['IT'].values"
   ]
  },
  {
   "cell_type": "code",
   "execution_count": 58,
   "metadata": {},
   "outputs": [],
   "source": [
    "trainx,testx,trainy,testy = train_test_split(mydata[mydata.columns.difference(['It'])],mydata['It'],test_size=0.3,random_state=123)"
   ]
  },
  {
   "cell_type": "code",
   "execution_count": 59,
   "metadata": {},
   "outputs": [],
   "source": [
    "from sklearn.ensemble import RandomForestClassifier\n",
    "from sklearn.model_selection import GridSearchCV"
   ]
  },
  {
   "cell_type": "code",
   "execution_count": 60,
   "metadata": {},
   "outputs": [
    {
     "data": {
      "text/plain": [
       "RandomForestClassifier()"
      ]
     },
     "execution_count": 60,
     "metadata": {},
     "output_type": "execute_result"
    }
   ],
   "source": [
    "RandomForestClassifier()"
   ]
  },
  {
   "cell_type": "code",
   "execution_count": 61,
   "metadata": {},
   "outputs": [],
   "source": [
    "param_grid={'n_estimators':[100,200,300,400,500]}"
   ]
  },
  {
   "cell_type": "code",
   "execution_count": 62,
   "metadata": {},
   "outputs": [],
   "source": [
    "trainy = trainy.astype('int64').values"
   ]
  },
  {
   "cell_type": "code",
   "execution_count": 63,
   "metadata": {},
   "outputs": [],
   "source": [
    "#gs = GridSearchCV(RandomForestClassifier(),param_grid,cv=5,n_jobs=-1)\n",
    "#gs.fit(trainx,trainy)"
   ]
  },
  {
   "cell_type": "code",
   "execution_count": 64,
   "metadata": {},
   "outputs": [],
   "source": [
    "#gs.best_params_"
   ]
  },
  {
   "cell_type": "code",
   "execution_count": 65,
   "metadata": {},
   "outputs": [],
   "source": [
    "#gs.best_score_"
   ]
  },
  {
   "cell_type": "code",
   "execution_count": 76,
   "metadata": {},
   "outputs": [
    {
     "data": {
      "text/plain": [
       "GridSearchCV(cv=5, estimator=RandomForestClassifier(), n_jobs=-1,\n",
       "             param_grid={'criterion': ['gini', 'entropy']})"
      ]
     },
     "execution_count": 76,
     "metadata": {},
     "output_type": "execute_result"
    }
   ],
   "source": [
    "param_grid={'criterion':['gini','entropy']}\n",
    "gs = GridSearchCV(RandomForestClassifier(),param_grid,cv=5,n_jobs=-1)\n",
    "gs.fit(trainx,trainy)"
   ]
  },
  {
   "cell_type": "code",
   "execution_count": 77,
   "metadata": {},
   "outputs": [
    {
     "data": {
      "text/plain": [
       "{'criterion': 'gini'}"
      ]
     },
     "execution_count": 77,
     "metadata": {},
     "output_type": "execute_result"
    }
   ],
   "source": [
    "gs.best_params_"
   ]
  },
  {
   "cell_type": "code",
   "execution_count": 66,
   "metadata": {},
   "outputs": [
    {
     "data": {
      "text/plain": [
       "RandomForestClassifier(n_jobs=-1, oob_score=True, random_state=123)"
      ]
     },
     "execution_count": 66,
     "metadata": {},
     "output_type": "execute_result"
    }
   ],
   "source": [
    "rf = RandomForestClassifier(100,n_jobs=-1,oob_score=True,random_state=123)\n",
    "rf.fit(trainx,trainy)"
   ]
  },
  {
   "cell_type": "code",
   "execution_count": 67,
   "metadata": {},
   "outputs": [
    {
     "data": {
      "text/html": [
       "<div>\n",
       "<style scoped>\n",
       "    .dataframe tbody tr th:only-of-type {\n",
       "        vertical-align: middle;\n",
       "    }\n",
       "\n",
       "    .dataframe tbody tr th {\n",
       "        vertical-align: top;\n",
       "    }\n",
       "\n",
       "    .dataframe thead th {\n",
       "        text-align: right;\n",
       "    }\n",
       "</style>\n",
       "<table border=\"1\" class=\"dataframe\">\n",
       "  <thead>\n",
       "    <tr style=\"text-align: right;\">\n",
       "      <th></th>\n",
       "      <th>actual</th>\n",
       "      <th>predicted</th>\n",
       "    </tr>\n",
       "  </thead>\n",
       "  <tbody>\n",
       "    <tr>\n",
       "      <th>0</th>\n",
       "      <td>0</td>\n",
       "      <td>0</td>\n",
       "    </tr>\n",
       "    <tr>\n",
       "      <th>1</th>\n",
       "      <td>0</td>\n",
       "      <td>0</td>\n",
       "    </tr>\n",
       "    <tr>\n",
       "      <th>2</th>\n",
       "      <td>1</td>\n",
       "      <td>1</td>\n",
       "    </tr>\n",
       "    <tr>\n",
       "      <th>3</th>\n",
       "      <td>0</td>\n",
       "      <td>0</td>\n",
       "    </tr>\n",
       "    <tr>\n",
       "      <th>4</th>\n",
       "      <td>0</td>\n",
       "      <td>0</td>\n",
       "    </tr>\n",
       "    <tr>\n",
       "      <th>...</th>\n",
       "      <td>...</td>\n",
       "      <td>...</td>\n",
       "    </tr>\n",
       "    <tr>\n",
       "      <th>9181</th>\n",
       "      <td>0</td>\n",
       "      <td>0</td>\n",
       "    </tr>\n",
       "    <tr>\n",
       "      <th>9182</th>\n",
       "      <td>0</td>\n",
       "      <td>0</td>\n",
       "    </tr>\n",
       "    <tr>\n",
       "      <th>9183</th>\n",
       "      <td>0</td>\n",
       "      <td>0</td>\n",
       "    </tr>\n",
       "    <tr>\n",
       "      <th>9184</th>\n",
       "      <td>0</td>\n",
       "      <td>0</td>\n",
       "    </tr>\n",
       "    <tr>\n",
       "      <th>9185</th>\n",
       "      <td>0</td>\n",
       "      <td>0</td>\n",
       "    </tr>\n",
       "  </tbody>\n",
       "</table>\n",
       "<p>9186 rows × 2 columns</p>\n",
       "</div>"
      ],
      "text/plain": [
       "      actual  predicted\n",
       "0          0          0\n",
       "1          0          0\n",
       "2          1          1\n",
       "3          0          0\n",
       "4          0          0\n",
       "...      ...        ...\n",
       "9181       0          0\n",
       "9182       0          0\n",
       "9183       0          0\n",
       "9184       0          0\n",
       "9185       0          0\n",
       "\n",
       "[9186 rows x 2 columns]"
      ]
     },
     "execution_count": 67,
     "metadata": {},
     "output_type": "execute_result"
    }
   ],
   "source": [
    "train_pred=pd.DataFrame({'actual':trainy,'predicted':rf.predict(trainx)})\n",
    "train_pred"
   ]
  },
  {
   "cell_type": "code",
   "execution_count": 68,
   "metadata": {},
   "outputs": [],
   "source": [
    "testy=testy.astype('int64').values"
   ]
  },
  {
   "cell_type": "code",
   "execution_count": 69,
   "metadata": {},
   "outputs": [],
   "source": [
    "test_pred=pd.DataFrame({'actual':testy,'predicted':rf.predict(testx)})"
   ]
  },
  {
   "cell_type": "code",
   "execution_count": 70,
   "metadata": {},
   "outputs": [
    {
     "data": {
      "text/html": [
       "<div>\n",
       "<style scoped>\n",
       "    .dataframe tbody tr th:only-of-type {\n",
       "        vertical-align: middle;\n",
       "    }\n",
       "\n",
       "    .dataframe tbody tr th {\n",
       "        vertical-align: top;\n",
       "    }\n",
       "\n",
       "    .dataframe thead th {\n",
       "        text-align: right;\n",
       "    }\n",
       "</style>\n",
       "<table border=\"1\" class=\"dataframe\">\n",
       "  <thead>\n",
       "    <tr style=\"text-align: right;\">\n",
       "      <th></th>\n",
       "      <th>actual</th>\n",
       "      <th>predicted</th>\n",
       "    </tr>\n",
       "  </thead>\n",
       "  <tbody>\n",
       "    <tr>\n",
       "      <th>0</th>\n",
       "      <td>0</td>\n",
       "      <td>0</td>\n",
       "    </tr>\n",
       "    <tr>\n",
       "      <th>1</th>\n",
       "      <td>1</td>\n",
       "      <td>1</td>\n",
       "    </tr>\n",
       "    <tr>\n",
       "      <th>2</th>\n",
       "      <td>1</td>\n",
       "      <td>1</td>\n",
       "    </tr>\n",
       "    <tr>\n",
       "      <th>3</th>\n",
       "      <td>0</td>\n",
       "      <td>0</td>\n",
       "    </tr>\n",
       "    <tr>\n",
       "      <th>4</th>\n",
       "      <td>0</td>\n",
       "      <td>0</td>\n",
       "    </tr>\n",
       "    <tr>\n",
       "      <th>...</th>\n",
       "      <td>...</td>\n",
       "      <td>...</td>\n",
       "    </tr>\n",
       "    <tr>\n",
       "      <th>3933</th>\n",
       "      <td>0</td>\n",
       "      <td>0</td>\n",
       "    </tr>\n",
       "    <tr>\n",
       "      <th>3934</th>\n",
       "      <td>0</td>\n",
       "      <td>0</td>\n",
       "    </tr>\n",
       "    <tr>\n",
       "      <th>3935</th>\n",
       "      <td>0</td>\n",
       "      <td>0</td>\n",
       "    </tr>\n",
       "    <tr>\n",
       "      <th>3936</th>\n",
       "      <td>0</td>\n",
       "      <td>0</td>\n",
       "    </tr>\n",
       "    <tr>\n",
       "      <th>3937</th>\n",
       "      <td>0</td>\n",
       "      <td>0</td>\n",
       "    </tr>\n",
       "  </tbody>\n",
       "</table>\n",
       "<p>3938 rows × 2 columns</p>\n",
       "</div>"
      ],
      "text/plain": [
       "      actual  predicted\n",
       "0          0          0\n",
       "1          1          1\n",
       "2          1          1\n",
       "3          0          0\n",
       "4          0          0\n",
       "...      ...        ...\n",
       "3933       0          0\n",
       "3934       0          0\n",
       "3935       0          0\n",
       "3936       0          0\n",
       "3937       0          0\n",
       "\n",
       "[3938 rows x 2 columns]"
      ]
     },
     "execution_count": 70,
     "metadata": {},
     "output_type": "execute_result"
    }
   ],
   "source": [
    "test_pred"
   ]
  },
  {
   "cell_type": "code",
   "execution_count": 71,
   "metadata": {},
   "outputs": [],
   "source": [
    "import sklearn.metrics as metrics"
   ]
  },
  {
   "cell_type": "code",
   "execution_count": 72,
   "metadata": {},
   "outputs": [
    {
     "data": {
      "text/plain": [
       "0.9890807516505841"
      ]
     },
     "execution_count": 72,
     "metadata": {},
     "output_type": "execute_result"
    }
   ],
   "source": [
    "metrics.accuracy_score(test_pred.actual,test_pred.predicted)"
   ]
  },
  {
   "cell_type": "code",
   "execution_count": 73,
   "metadata": {},
   "outputs": [
    {
     "name": "stdout",
     "output_type": "stream",
     "text": [
      "              precision    recall  f1-score   support\n",
      "\n",
      "           0       0.99      1.00      0.99      3093\n",
      "           1       0.99      0.96      0.97       845\n",
      "\n",
      "    accuracy                           0.99      3938\n",
      "   macro avg       0.99      0.98      0.98      3938\n",
      "weighted avg       0.99      0.99      0.99      3938\n",
      "\n"
     ]
    }
   ],
   "source": [
    "print(metrics.classification_report(test_pred.actual,test_pred.predicted))"
   ]
  },
  {
   "cell_type": "code",
   "execution_count": 74,
   "metadata": {},
   "outputs": [
    {
     "data": {
      "text/plain": [
       "array([[3086,    7],\n",
       "       [  36,  809]], dtype=int64)"
      ]
     },
     "execution_count": 74,
     "metadata": {},
     "output_type": "execute_result"
    }
   ],
   "source": [
    "metrics.confusion_matrix(test_pred.actual,test_pred.predicted)"
   ]
  },
  {
   "cell_type": "code",
   "execution_count": 78,
   "metadata": {},
   "outputs": [],
   "source": [
    "\n",
    "indices = np.argsort(rf.feature_importances_)[::-1]\n",
    "feature_rank = pd.DataFrame( columns = ['rank', 'feature', 'importance'] )\n",
    "for f in range(trainx.shape[1]):\n",
    "  feature_rank.loc[f] = [f+1,\n",
    "                         trainx.columns[indices[f]],\n",
    "                         rf.feature_importances_[indices[f]]]"
   ]
  },
  {
   "cell_type": "code",
   "execution_count": 84,
   "metadata": {},
   "outputs": [
    {
     "data": {
      "text/plain": [
       "<Figure size 7200x2160 with 0 Axes>"
      ]
     },
     "execution_count": 84,
     "metadata": {},
     "output_type": "execute_result"
    },
    {
     "data": {
      "image/png": "[encoded data removed]",
      "text/plain": [
       "<Figure size 432x288 with 1 Axes>"
      ]
     },
     "metadata": {
      "needs_background": "light"
     },
     "output_type": "display_data"
    },
    {
     "data": {
      "text/plain": [
       "<Figure size 7200x2160 with 0 Axes>"
      ]
     },
     "metadata": {},
     "output_type": "display_data"
    }
   ],
   "source": [
    "sns.barplot( y = 'feature', x = 'importance', data = feature_rank[:20] )\n",
    "\n",
    "plt.figure(figsize=(100,30))"
   ]
  },
  {
   "cell_type": "markdown",
   "metadata": {},
   "source": [
    "### Given a job title, find the 5 top jobs that are of a similar nature, based on the job post.\n"
   ]
  },
  {
   "cell_type": "code",
   "execution_count": 147,
   "metadata": {},
   "outputs": [
    {
     "data": {
      "text/html": [
       "<div>\n",
       "<style scoped>\n",
       "    .dataframe tbody tr th:only-of-type {\n",
       "        vertical-align: middle;\n",
       "    }\n",
       "\n",
       "    .dataframe tbody tr th {\n",
       "        vertical-align: top;\n",
       "    }\n",
       "\n",
       "    .dataframe thead th {\n",
       "        text-align: right;\n",
       "    }\n",
       "</style>\n",
       "<table border=\"1\" class=\"dataframe\">\n",
       "  <thead>\n",
       "    <tr style=\"text-align: right;\">\n",
       "      <th></th>\n",
       "      <th>001</th>\n",
       "      <th>07</th>\n",
       "      <th>11</th>\n",
       "      <th>1c</th>\n",
       "      <th>2004</th>\n",
       "      <th>2006</th>\n",
       "      <th>3d</th>\n",
       "      <th>aacas</th>\n",
       "      <th>abap</th>\n",
       "      <th>abatement</th>\n",
       "      <th>...</th>\n",
       "      <th>young</th>\n",
       "      <th>youth</th>\n",
       "      <th>zang</th>\n",
       "      <th>zend</th>\n",
       "      <th>zend2</th>\n",
       "      <th>zonal</th>\n",
       "      <th>zone</th>\n",
       "      <th>zooplankton</th>\n",
       "      <th>zvartnots</th>\n",
       "      <th>It</th>\n",
       "    </tr>\n",
       "  </thead>\n",
       "  <tbody>\n",
       "    <tr>\n",
       "      <th>0</th>\n",
       "      <td>0.0</td>\n",
       "      <td>0.0</td>\n",
       "      <td>0.0</td>\n",
       "      <td>0.0</td>\n",
       "      <td>0.0</td>\n",
       "      <td>0.0</td>\n",
       "      <td>0.0</td>\n",
       "      <td>0.0</td>\n",
       "      <td>0.0</td>\n",
       "      <td>0.0</td>\n",
       "      <td>...</td>\n",
       "      <td>0.0</td>\n",
       "      <td>0.0</td>\n",
       "      <td>0.0</td>\n",
       "      <td>0.0</td>\n",
       "      <td>0.0</td>\n",
       "      <td>0.0</td>\n",
       "      <td>0.0</td>\n",
       "      <td>0.0</td>\n",
       "      <td>0.0</td>\n",
       "      <td>0</td>\n",
       "    </tr>\n",
       "    <tr>\n",
       "      <th>1</th>\n",
       "      <td>0.0</td>\n",
       "      <td>0.0</td>\n",
       "      <td>0.0</td>\n",
       "      <td>0.0</td>\n",
       "      <td>0.0</td>\n",
       "      <td>0.0</td>\n",
       "      <td>0.0</td>\n",
       "      <td>0.0</td>\n",
       "      <td>0.0</td>\n",
       "      <td>0.0</td>\n",
       "      <td>...</td>\n",
       "      <td>0.0</td>\n",
       "      <td>0.0</td>\n",
       "      <td>0.0</td>\n",
       "      <td>0.0</td>\n",
       "      <td>0.0</td>\n",
       "      <td>0.0</td>\n",
       "      <td>0.0</td>\n",
       "      <td>0.0</td>\n",
       "      <td>0.0</td>\n",
       "      <td>0</td>\n",
       "    </tr>\n",
       "    <tr>\n",
       "      <th>2</th>\n",
       "      <td>0.0</td>\n",
       "      <td>0.0</td>\n",
       "      <td>0.0</td>\n",
       "      <td>0.0</td>\n",
       "      <td>0.0</td>\n",
       "      <td>0.0</td>\n",
       "      <td>0.0</td>\n",
       "      <td>0.0</td>\n",
       "      <td>0.0</td>\n",
       "      <td>0.0</td>\n",
       "      <td>...</td>\n",
       "      <td>0.0</td>\n",
       "      <td>0.0</td>\n",
       "      <td>0.0</td>\n",
       "      <td>0.0</td>\n",
       "      <td>0.0</td>\n",
       "      <td>0.0</td>\n",
       "      <td>0.0</td>\n",
       "      <td>0.0</td>\n",
       "      <td>0.0</td>\n",
       "      <td>0</td>\n",
       "    </tr>\n",
       "    <tr>\n",
       "      <th>3</th>\n",
       "      <td>0.0</td>\n",
       "      <td>0.0</td>\n",
       "      <td>0.0</td>\n",
       "      <td>0.0</td>\n",
       "      <td>0.0</td>\n",
       "      <td>0.0</td>\n",
       "      <td>0.0</td>\n",
       "      <td>0.0</td>\n",
       "      <td>0.0</td>\n",
       "      <td>0.0</td>\n",
       "      <td>...</td>\n",
       "      <td>0.0</td>\n",
       "      <td>0.0</td>\n",
       "      <td>0.0</td>\n",
       "      <td>0.0</td>\n",
       "      <td>0.0</td>\n",
       "      <td>0.0</td>\n",
       "      <td>0.0</td>\n",
       "      <td>0.0</td>\n",
       "      <td>0.0</td>\n",
       "      <td>0</td>\n",
       "    </tr>\n",
       "    <tr>\n",
       "      <th>4</th>\n",
       "      <td>0.0</td>\n",
       "      <td>0.0</td>\n",
       "      <td>0.0</td>\n",
       "      <td>0.0</td>\n",
       "      <td>0.0</td>\n",
       "      <td>0.0</td>\n",
       "      <td>0.0</td>\n",
       "      <td>0.0</td>\n",
       "      <td>0.0</td>\n",
       "      <td>0.0</td>\n",
       "      <td>...</td>\n",
       "      <td>0.0</td>\n",
       "      <td>0.0</td>\n",
       "      <td>0.0</td>\n",
       "      <td>0.0</td>\n",
       "      <td>0.0</td>\n",
       "      <td>0.0</td>\n",
       "      <td>0.0</td>\n",
       "      <td>0.0</td>\n",
       "      <td>0.0</td>\n",
       "      <td>0</td>\n",
       "    </tr>\n",
       "    <tr>\n",
       "      <th>...</th>\n",
       "      <td>...</td>\n",
       "      <td>...</td>\n",
       "      <td>...</td>\n",
       "      <td>...</td>\n",
       "      <td>...</td>\n",
       "      <td>...</td>\n",
       "      <td>...</td>\n",
       "      <td>...</td>\n",
       "      <td>...</td>\n",
       "      <td>...</td>\n",
       "      <td>...</td>\n",
       "      <td>...</td>\n",
       "      <td>...</td>\n",
       "      <td>...</td>\n",
       "      <td>...</td>\n",
       "      <td>...</td>\n",
       "      <td>...</td>\n",
       "      <td>...</td>\n",
       "      <td>...</td>\n",
       "      <td>...</td>\n",
       "      <td>...</td>\n",
       "    </tr>\n",
       "    <tr>\n",
       "      <th>13119</th>\n",
       "      <td>0.0</td>\n",
       "      <td>0.0</td>\n",
       "      <td>0.0</td>\n",
       "      <td>0.0</td>\n",
       "      <td>0.0</td>\n",
       "      <td>0.0</td>\n",
       "      <td>0.0</td>\n",
       "      <td>0.0</td>\n",
       "      <td>0.0</td>\n",
       "      <td>0.0</td>\n",
       "      <td>...</td>\n",
       "      <td>0.0</td>\n",
       "      <td>0.0</td>\n",
       "      <td>0.0</td>\n",
       "      <td>0.0</td>\n",
       "      <td>0.0</td>\n",
       "      <td>0.0</td>\n",
       "      <td>0.0</td>\n",
       "      <td>0.0</td>\n",
       "      <td>0.0</td>\n",
       "      <td>1</td>\n",
       "    </tr>\n",
       "    <tr>\n",
       "      <th>13120</th>\n",
       "      <td>0.0</td>\n",
       "      <td>0.0</td>\n",
       "      <td>0.0</td>\n",
       "      <td>0.0</td>\n",
       "      <td>0.0</td>\n",
       "      <td>0.0</td>\n",
       "      <td>0.0</td>\n",
       "      <td>0.0</td>\n",
       "      <td>0.0</td>\n",
       "      <td>0.0</td>\n",
       "      <td>...</td>\n",
       "      <td>0.0</td>\n",
       "      <td>0.0</td>\n",
       "      <td>0.0</td>\n",
       "      <td>0.0</td>\n",
       "      <td>0.0</td>\n",
       "      <td>0.0</td>\n",
       "      <td>0.0</td>\n",
       "      <td>0.0</td>\n",
       "      <td>0.0</td>\n",
       "      <td>0</td>\n",
       "    </tr>\n",
       "    <tr>\n",
       "      <th>13121</th>\n",
       "      <td>0.0</td>\n",
       "      <td>0.0</td>\n",
       "      <td>0.0</td>\n",
       "      <td>0.0</td>\n",
       "      <td>0.0</td>\n",
       "      <td>0.0</td>\n",
       "      <td>0.0</td>\n",
       "      <td>0.0</td>\n",
       "      <td>0.0</td>\n",
       "      <td>0.0</td>\n",
       "      <td>...</td>\n",
       "      <td>0.0</td>\n",
       "      <td>0.0</td>\n",
       "      <td>0.0</td>\n",
       "      <td>0.0</td>\n",
       "      <td>0.0</td>\n",
       "      <td>0.0</td>\n",
       "      <td>0.0</td>\n",
       "      <td>0.0</td>\n",
       "      <td>0.0</td>\n",
       "      <td>0</td>\n",
       "    </tr>\n",
       "    <tr>\n",
       "      <th>13122</th>\n",
       "      <td>0.0</td>\n",
       "      <td>0.0</td>\n",
       "      <td>0.0</td>\n",
       "      <td>0.0</td>\n",
       "      <td>0.0</td>\n",
       "      <td>0.0</td>\n",
       "      <td>0.0</td>\n",
       "      <td>0.0</td>\n",
       "      <td>0.0</td>\n",
       "      <td>0.0</td>\n",
       "      <td>...</td>\n",
       "      <td>0.0</td>\n",
       "      <td>0.0</td>\n",
       "      <td>0.0</td>\n",
       "      <td>0.0</td>\n",
       "      <td>0.0</td>\n",
       "      <td>0.0</td>\n",
       "      <td>0.0</td>\n",
       "      <td>0.0</td>\n",
       "      <td>0.0</td>\n",
       "      <td>0</td>\n",
       "    </tr>\n",
       "    <tr>\n",
       "      <th>13123</th>\n",
       "      <td>0.0</td>\n",
       "      <td>0.0</td>\n",
       "      <td>0.0</td>\n",
       "      <td>0.0</td>\n",
       "      <td>0.0</td>\n",
       "      <td>0.0</td>\n",
       "      <td>0.0</td>\n",
       "      <td>0.0</td>\n",
       "      <td>0.0</td>\n",
       "      <td>0.0</td>\n",
       "      <td>...</td>\n",
       "      <td>0.0</td>\n",
       "      <td>0.0</td>\n",
       "      <td>0.0</td>\n",
       "      <td>0.0</td>\n",
       "      <td>0.0</td>\n",
       "      <td>0.0</td>\n",
       "      <td>0.0</td>\n",
       "      <td>0.0</td>\n",
       "      <td>0.0</td>\n",
       "      <td>0</td>\n",
       "    </tr>\n",
       "  </tbody>\n",
       "</table>\n",
       "<p>13124 rows × 2286 columns</p>\n",
       "</div>"
      ],
      "text/plain": [
       "       001   07   11   1c  2004  2006   3d  aacas  abap  abatement  ...  \\\n",
       "0      0.0  0.0  0.0  0.0   0.0   0.0  0.0    0.0   0.0        0.0  ...   \n",
       "1      0.0  0.0  0.0  0.0   0.0   0.0  0.0    0.0   0.0        0.0  ...   \n",
       "2      0.0  0.0  0.0  0.0   0.0   0.0  0.0    0.0   0.0        0.0  ...   \n",
       "3      0.0  0.0  0.0  0.0   0.0   0.0  0.0    0.0   0.0        0.0  ...   \n",
       "4      0.0  0.0  0.0  0.0   0.0   0.0  0.0    0.0   0.0        0.0  ...   \n",
       "...    ...  ...  ...  ...   ...   ...  ...    ...   ...        ...  ...   \n",
       "13119  0.0  0.0  0.0  0.0   0.0   0.0  0.0    0.0   0.0        0.0  ...   \n",
       "13120  0.0  0.0  0.0  0.0   0.0   0.0  0.0    0.0   0.0        0.0  ...   \n",
       "13121  0.0  0.0  0.0  0.0   0.0   0.0  0.0    0.0   0.0        0.0  ...   \n",
       "13122  0.0  0.0  0.0  0.0   0.0   0.0  0.0    0.0   0.0        0.0  ...   \n",
       "13123  0.0  0.0  0.0  0.0   0.0   0.0  0.0    0.0   0.0        0.0  ...   \n",
       "\n",
       "       young  youth  zang  zend  zend2  zonal  zone  zooplankton  zvartnots  \\\n",
       "0        0.0    0.0   0.0   0.0    0.0    0.0   0.0          0.0        0.0   \n",
       "1        0.0    0.0   0.0   0.0    0.0    0.0   0.0          0.0        0.0   \n",
       "2        0.0    0.0   0.0   0.0    0.0    0.0   0.0          0.0        0.0   \n",
       "3        0.0    0.0   0.0   0.0    0.0    0.0   0.0          0.0        0.0   \n",
       "4        0.0    0.0   0.0   0.0    0.0    0.0   0.0          0.0        0.0   \n",
       "...      ...    ...   ...   ...    ...    ...   ...          ...        ...   \n",
       "13119    0.0    0.0   0.0   0.0    0.0    0.0   0.0          0.0        0.0   \n",
       "13120    0.0    0.0   0.0   0.0    0.0    0.0   0.0          0.0        0.0   \n",
       "13121    0.0    0.0   0.0   0.0    0.0    0.0   0.0          0.0        0.0   \n",
       "13122    0.0    0.0   0.0   0.0    0.0    0.0   0.0          0.0        0.0   \n",
       "13123    0.0    0.0   0.0   0.0    0.0    0.0   0.0          0.0        0.0   \n",
       "\n",
       "       It  \n",
       "0       0  \n",
       "1       0  \n",
       "2       0  \n",
       "3       0  \n",
       "4       0  \n",
       "...    ..  \n",
       "13119   1  \n",
       "13120   0  \n",
       "13121   0  \n",
       "13122   0  \n",
       "13123   0  \n",
       "\n",
       "[13124 rows x 2286 columns]"
      ]
     },
     "execution_count": 147,
     "metadata": {},
     "output_type": "execute_result"
    }
   ],
   "source": [
    "mydata"
   ]
  },
  {
   "cell_type": "code",
   "execution_count": 148,
   "metadata": {},
   "outputs": [
    {
     "data": {
      "text/html": [
       "<div>\n",
       "<style scoped>\n",
       "    .dataframe tbody tr th:only-of-type {\n",
       "        vertical-align: middle;\n",
       "    }\n",
       "\n",
       "    .dataframe tbody tr th {\n",
       "        vertical-align: top;\n",
       "    }\n",
       "\n",
       "    .dataframe thead th {\n",
       "        text-align: right;\n",
       "    }\n",
       "</style>\n",
       "<table border=\"1\" class=\"dataframe\">\n",
       "  <thead>\n",
       "    <tr style=\"text-align: right;\">\n",
       "      <th></th>\n",
       "      <th>jobpost</th>\n",
       "      <th>date</th>\n",
       "      <th>Title</th>\n",
       "      <th>Company</th>\n",
       "      <th>JobDescription</th>\n",
       "      <th>JobRequirment</th>\n",
       "      <th>RequiredQual</th>\n",
       "      <th>IT</th>\n",
       "    </tr>\n",
       "  </thead>\n",
       "  <tbody>\n",
       "    <tr>\n",
       "      <th>0</th>\n",
       "      <td>AMERIA Investment Consulting Company\\nJOB TITL...</td>\n",
       "      <td>2004-01-05</td>\n",
       "      <td>Chief Financial Officer</td>\n",
       "      <td>AMERIA Investment Consulting Company</td>\n",
       "      <td>AMERIA Investment Consulting Company is seekin...</td>\n",
       "      <td>- Supervises financial management and administ...</td>\n",
       "      <td>To perform this job successfully, an\\nindividu...</td>\n",
       "      <td>False</td>\n",
       "    </tr>\n",
       "    <tr>\n",
       "      <th>2</th>\n",
       "      <td>Caucasus Environmental NGO Network (CENN)\\nJOB...</td>\n",
       "      <td>2004-01-07</td>\n",
       "      <td>Country Coordinator</td>\n",
       "      <td>Caucasus Environmental NGO Network (CENN)</td>\n",
       "      <td>Public outreach and strengthening of a growing...</td>\n",
       "      <td>- Working with the Country Director to provide...</td>\n",
       "      <td>- Degree in environmentally related field, or ...</td>\n",
       "      <td>False</td>\n",
       "    </tr>\n",
       "    <tr>\n",
       "      <th>3</th>\n",
       "      <td>Manoff Group\\nJOB TITLE:  BCC Specialist\\nPOSI...</td>\n",
       "      <td>2004-01-07</td>\n",
       "      <td>BCC Specialist</td>\n",
       "      <td>Manoff Group</td>\n",
       "      <td>The LEAD (Local Enhancement and Development fo...</td>\n",
       "      <td>- Identify gaps in knowledge and overseeing in...</td>\n",
       "      <td>- Advanced degree in public health, social sci...</td>\n",
       "      <td>False</td>\n",
       "    </tr>\n",
       "    <tr>\n",
       "      <th>13</th>\n",
       "      <td>Food Security Regional Cooperation and Stabili...</td>\n",
       "      <td>2004-01-14</td>\n",
       "      <td>Community Development, Capacity Building and C...</td>\n",
       "      <td>Food Security Regional Cooperation and Stabili...</td>\n",
       "      <td>Food Security Regional Cooperation and Stabili...</td>\n",
       "      <td>- Assist the Tavush Marz communities and commu...</td>\n",
       "      <td>- Higher Education and/or professional experie...</td>\n",
       "      <td>False</td>\n",
       "    </tr>\n",
       "    <tr>\n",
       "      <th>17</th>\n",
       "      <td>United Nations Development Programme, Armenia\\...</td>\n",
       "      <td>2004-01-15</td>\n",
       "      <td>Country Economist (NOB)</td>\n",
       "      <td>United Nations Development Programme, Armenia</td>\n",
       "      <td>The United Nations Development Programme in Ar...</td>\n",
       "      <td>The incumbent under direct supervision of UNDP...</td>\n",
       "      <td>- Minimum Masters Degree in Economics;\\n- Mini...</td>\n",
       "      <td>False</td>\n",
       "    </tr>\n",
       "    <tr>\n",
       "      <th>...</th>\n",
       "      <td>...</td>\n",
       "      <td>...</td>\n",
       "      <td>...</td>\n",
       "      <td>...</td>\n",
       "      <td>...</td>\n",
       "      <td>...</td>\n",
       "      <td>...</td>\n",
       "      <td>...</td>\n",
       "    </tr>\n",
       "    <tr>\n",
       "      <th>18992</th>\n",
       "      <td>Macadamian AR CJSC\\n\\n\\nTITLE:  .NET Developer...</td>\n",
       "      <td>2015-12-25</td>\n",
       "      <td>.NET Developer</td>\n",
       "      <td>Macadamian AR CJSC</td>\n",
       "      <td>The incumbent will develop software applicatio...</td>\n",
       "      <td>- Participate in all the steps of the software...</td>\n",
       "      <td>- 2 - 5 years of experience in software develo...</td>\n",
       "      <td>True</td>\n",
       "    </tr>\n",
       "    <tr>\n",
       "      <th>18995</th>\n",
       "      <td>\"Transport PIU\" State Institution of the RA Mi...</td>\n",
       "      <td>2015-12-24</td>\n",
       "      <td>Deputy Director</td>\n",
       "      <td>\"Transport PIU\" State Institution of the RA Mi...</td>\n",
       "      <td>The incumbent will be responsible for supporti...</td>\n",
       "      <td>- Support the Director in organizing the activ...</td>\n",
       "      <td>- University degree in Civil Engineering, Econ...</td>\n",
       "      <td>False</td>\n",
       "    </tr>\n",
       "    <tr>\n",
       "      <th>18996</th>\n",
       "      <td>Technolinguistics NGO\\n\\n\\nTITLE:  Senior Crea...</td>\n",
       "      <td>2015-12-28</td>\n",
       "      <td>Senior Creative UX/ UI Designer</td>\n",
       "      <td>Technolinguistics NGO</td>\n",
       "      <td>A tech startup of Technolinguistics based in N...</td>\n",
       "      <td>- Work closely with product and business teams...</td>\n",
       "      <td>- At least 5 years of experience in Interface/...</td>\n",
       "      <td>False</td>\n",
       "    </tr>\n",
       "    <tr>\n",
       "      <th>18999</th>\n",
       "      <td>San Lazzaro   LLC\\n\\n\\nTITLE:  Head of Online ...</td>\n",
       "      <td>2015-12-30</td>\n",
       "      <td>Head of Online Sales Department</td>\n",
       "      <td>San Lazzaro   LLC</td>\n",
       "      <td>San Lazzaro LLC is looking for a well-experien...</td>\n",
       "      <td>- Handle the project activites of the online s...</td>\n",
       "      <td>- At least 1 year of experience in online sale...</td>\n",
       "      <td>False</td>\n",
       "    </tr>\n",
       "    <tr>\n",
       "      <th>19000</th>\n",
       "      <td>\"Kamurj\" UCO CJSC\\n\\n\\nTITLE:  Lawyer in Legal...</td>\n",
       "      <td>2015-12-30</td>\n",
       "      <td>Lawyer in Legal Department</td>\n",
       "      <td>\"Kamurj\" UCO CJSC</td>\n",
       "      <td>\"Kamurj\" UCO CJSC is looking for a Lawyer in L...</td>\n",
       "      <td>- Properly provide internal legal services of ...</td>\n",
       "      <td>- Higher legal education; Master's degree is a...</td>\n",
       "      <td>False</td>\n",
       "    </tr>\n",
       "  </tbody>\n",
       "</table>\n",
       "<p>13124 rows × 8 columns</p>\n",
       "</div>"
      ],
      "text/plain": [
       "                                                 jobpost       date  \\\n",
       "0      AMERIA Investment Consulting Company\\nJOB TITL... 2004-01-05   \n",
       "2      Caucasus Environmental NGO Network (CENN)\\nJOB... 2004-01-07   \n",
       "3      Manoff Group\\nJOB TITLE:  BCC Specialist\\nPOSI... 2004-01-07   \n",
       "13     Food Security Regional Cooperation and Stabili... 2004-01-14   \n",
       "17     United Nations Development Programme, Armenia\\... 2004-01-15   \n",
       "...                                                  ...        ...   \n",
       "18992  Macadamian AR CJSC\\n\\n\\nTITLE:  .NET Developer... 2015-12-25   \n",
       "18995  \"Transport PIU\" State Institution of the RA Mi... 2015-12-24   \n",
       "18996  Technolinguistics NGO\\n\\n\\nTITLE:  Senior Crea... 2015-12-28   \n",
       "18999  San Lazzaro   LLC\\n\\n\\nTITLE:  Head of Online ... 2015-12-30   \n",
       "19000  \"Kamurj\" UCO CJSC\\n\\n\\nTITLE:  Lawyer in Legal... 2015-12-30   \n",
       "\n",
       "                                                   Title  \\\n",
       "0                                Chief Financial Officer   \n",
       "2                                    Country Coordinator   \n",
       "3                                         BCC Specialist   \n",
       "13     Community Development, Capacity Building and C...   \n",
       "17                               Country Economist (NOB)   \n",
       "...                                                  ...   \n",
       "18992                                     .NET Developer   \n",
       "18995                                    Deputy Director   \n",
       "18996                    Senior Creative UX/ UI Designer   \n",
       "18999                    Head of Online Sales Department   \n",
       "19000                         Lawyer in Legal Department   \n",
       "\n",
       "                                                 Company  \\\n",
       "0                   AMERIA Investment Consulting Company   \n",
       "2              Caucasus Environmental NGO Network (CENN)   \n",
       "3                                           Manoff Group   \n",
       "13     Food Security Regional Cooperation and Stabili...   \n",
       "17         United Nations Development Programme, Armenia   \n",
       "...                                                  ...   \n",
       "18992                                 Macadamian AR CJSC   \n",
       "18995  \"Transport PIU\" State Institution of the RA Mi...   \n",
       "18996                              Technolinguistics NGO   \n",
       "18999                                  San Lazzaro   LLC   \n",
       "19000                                  \"Kamurj\" UCO CJSC   \n",
       "\n",
       "                                          JobDescription  \\\n",
       "0      AMERIA Investment Consulting Company is seekin...   \n",
       "2      Public outreach and strengthening of a growing...   \n",
       "3      The LEAD (Local Enhancement and Development fo...   \n",
       "13     Food Security Regional Cooperation and Stabili...   \n",
       "17     The United Nations Development Programme in Ar...   \n",
       "...                                                  ...   \n",
       "18992  The incumbent will develop software applicatio...   \n",
       "18995  The incumbent will be responsible for supporti...   \n",
       "18996  A tech startup of Technolinguistics based in N...   \n",
       "18999  San Lazzaro LLC is looking for a well-experien...   \n",
       "19000  \"Kamurj\" UCO CJSC is looking for a Lawyer in L...   \n",
       "\n",
       "                                           JobRequirment  \\\n",
       "0      - Supervises financial management and administ...   \n",
       "2      - Working with the Country Director to provide...   \n",
       "3      - Identify gaps in knowledge and overseeing in...   \n",
       "13     - Assist the Tavush Marz communities and commu...   \n",
       "17     The incumbent under direct supervision of UNDP...   \n",
       "...                                                  ...   \n",
       "18992  - Participate in all the steps of the software...   \n",
       "18995  - Support the Director in organizing the activ...   \n",
       "18996  - Work closely with product and business teams...   \n",
       "18999  - Handle the project activites of the online s...   \n",
       "19000  - Properly provide internal legal services of ...   \n",
       "\n",
       "                                            RequiredQual     IT  \n",
       "0      To perform this job successfully, an\\nindividu...  False  \n",
       "2      - Degree in environmentally related field, or ...  False  \n",
       "3      - Advanced degree in public health, social sci...  False  \n",
       "13     - Higher Education and/or professional experie...  False  \n",
       "17     - Minimum Masters Degree in Economics;\\n- Mini...  False  \n",
       "...                                                  ...    ...  \n",
       "18992  - 2 - 5 years of experience in software develo...   True  \n",
       "18995  - University degree in Civil Engineering, Econ...  False  \n",
       "18996  - At least 5 years of experience in Interface/...  False  \n",
       "18999  - At least 1 year of experience in online sale...  False  \n",
       "19000  - Higher legal education; Master's degree is a...  False  \n",
       "\n",
       "[13124 rows x 8 columns]"
      ]
     },
     "execution_count": 148,
     "metadata": {},
     "output_type": "execute_result"
    }
   ],
   "source": [
    "df"
   ]
  },
  {
   "cell_type": "code",
   "execution_count": 162,
   "metadata": {},
   "outputs": [],
   "source": [
    "from sklearn.cluster import KMeans"
   ]
  },
  {
   "cell_type": "code",
   "execution_count": 163,
   "metadata": {},
   "outputs": [],
   "source": [
    "errors =[]\n",
    "for i in range(1,21):\n",
    "    km=KMeans(i)\n",
    "    km=km.fit(mydata)\n",
    "    errors.append(km.inertia_)\n",
    "    "
   ]
  },
  {
   "cell_type": "code",
   "execution_count": 164,
   "metadata": {},
   "outputs": [
    {
     "data": {
      "text/plain": [
       "[15042.040679735432,\n",
       " 12562.490532200249,\n",
       " 12295.994677039871,\n",
       " 11980.227038736779,\n",
       " 11781.165440572146,\n",
       " 11644.806447293531,\n",
       " 11465.698142747342,\n",
       " 11289.779385714757,\n",
       " 11168.152776479224,\n",
       " 11106.608673727731,\n",
       " 10912.888837376988,\n",
       " 10818.543276484923,\n",
       " 10698.970922750286,\n",
       " 10622.81761533194,\n",
       " 10569.702375565006,\n",
       " 10448.276911289418,\n",
       " 10469.981328843807,\n",
       " 10250.726870931996,\n",
       " 10288.763879913888,\n",
       " 10162.20953034635]"
      ]
     },
     "execution_count": 164,
     "metadata": {},
     "output_type": "execute_result"
    }
   ],
   "source": [
    "errors"
   ]
  },
  {
   "cell_type": "code",
   "execution_count": 167,
   "metadata": {},
   "outputs": [
    {
     "data": {
      "text/plain": [
       "<matplotlib.axes._subplots.AxesSubplot at 0x26456e9bdf0>"
      ]
     },
     "execution_count": 167,
     "metadata": {},
     "output_type": "execute_result"
    },
    {
     "data": {
      "image/png": "[encoded data removed]",
      "text/plain": [
       "<Figure size 432x288 with 1 Axes>"
      ]
     },
     "metadata": {
      "needs_background": "light"
     },
     "output_type": "display_data"
    }
   ],
   "source": [
    "pd.Series(errors).plot()"
   ]
  },
  {
   "cell_type": "code",
   "execution_count": 169,
   "metadata": {},
   "outputs": [],
   "source": [
    "score=[]\n",
    "for i in range(2,21):\n",
    "    km=KMeans(i)\n",
    "    km=km.fit(mydata)\n",
    "    score.append(metrics.silhouette_score(mydata,km.labels_))"
   ]
  },
  {
   "cell_type": "code",
   "execution_count": 171,
   "metadata": {},
   "outputs": [
    {
     "data": {
      "text/plain": [
       "<matplotlib.axes._subplots.AxesSubplot at 0x26422b6aca0>"
      ]
     },
     "execution_count": 171,
     "metadata": {},
     "output_type": "execute_result"
    },
    {
     "data": {
      "image/png": "[encoded data removed]",
      "text/plain": [
       "<Figure size 432x288 with 1 Axes>"
      ]
     },
     "metadata": {
      "needs_background": "light"
     },
     "output_type": "display_data"
    }
   ],
   "source": [
    "pd.Series(score).plot()"
   ]
  },
  {
   "cell_type": "code",
   "execution_count": 173,
   "metadata": {},
   "outputs": [
    {
     "data": {
      "text/plain": [
       "array([1, 1, 1, ..., 1, 1, 1])"
      ]
     },
     "execution_count": 173,
     "metadata": {},
     "output_type": "execute_result"
    }
   ],
   "source": [
    "km_5=KMeans(5)\n",
    "km_5=km_5.fit(mydata)\n",
    "km_5.labels_"
   ]
  },
  {
   "cell_type": "code",
   "execution_count": 176,
   "metadata": {},
   "outputs": [],
   "source": [
    "mydata['clusters']=km_5.labels_"
   ]
  },
  {
   "cell_type": "code",
   "execution_count": 179,
   "metadata": {},
   "outputs": [
    {
     "data": {
      "text/plain": [
       "1    7118\n",
       "0    2803\n",
       "3    1730\n",
       "2     988\n",
       "4     485\n",
       "Name: clusters, dtype: int64"
      ]
     },
     "execution_count": 179,
     "metadata": {},
     "output_type": "execute_result"
    }
   ],
   "source": [
    "mydata['clusters'].value_counts()"
   ]
  },
  {
   "cell_type": "code",
   "execution_count": 181,
   "metadata": {},
   "outputs": [],
   "source": [
    "df['clusters'] =km_5.labels_"
   ]
  },
  {
   "cell_type": "code",
   "execution_count": 182,
   "metadata": {},
   "outputs": [
    {
     "data": {
      "text/html": [
       "<div>\n",
       "<style scoped>\n",
       "    .dataframe tbody tr th:only-of-type {\n",
       "        vertical-align: middle;\n",
       "    }\n",
       "\n",
       "    .dataframe tbody tr th {\n",
       "        vertical-align: top;\n",
       "    }\n",
       "\n",
       "    .dataframe thead th {\n",
       "        text-align: right;\n",
       "    }\n",
       "</style>\n",
       "<table border=\"1\" class=\"dataframe\">\n",
       "  <thead>\n",
       "    <tr style=\"text-align: right;\">\n",
       "      <th></th>\n",
       "      <th>jobpost</th>\n",
       "      <th>date</th>\n",
       "      <th>Title</th>\n",
       "      <th>Company</th>\n",
       "      <th>JobDescription</th>\n",
       "      <th>JobRequirment</th>\n",
       "      <th>RequiredQual</th>\n",
       "      <th>IT</th>\n",
       "      <th>clusters</th>\n",
       "    </tr>\n",
       "  </thead>\n",
       "  <tbody>\n",
       "    <tr>\n",
       "      <th>0</th>\n",
       "      <td>AMERIA Investment Consulting Company\\nJOB TITL...</td>\n",
       "      <td>2004-01-05</td>\n",
       "      <td>Chief Financial Officer</td>\n",
       "      <td>AMERIA Investment Consulting Company</td>\n",
       "      <td>AMERIA Investment Consulting Company is seekin...</td>\n",
       "      <td>- Supervises financial management and administ...</td>\n",
       "      <td>To perform this job successfully, an\\nindividu...</td>\n",
       "      <td>False</td>\n",
       "      <td>1</td>\n",
       "    </tr>\n",
       "    <tr>\n",
       "      <th>2</th>\n",
       "      <td>Caucasus Environmental NGO Network (CENN)\\nJOB...</td>\n",
       "      <td>2004-01-07</td>\n",
       "      <td>Country Coordinator</td>\n",
       "      <td>Caucasus Environmental NGO Network (CENN)</td>\n",
       "      <td>Public outreach and strengthening of a growing...</td>\n",
       "      <td>- Working with the Country Director to provide...</td>\n",
       "      <td>- Degree in environmentally related field, or ...</td>\n",
       "      <td>False</td>\n",
       "      <td>1</td>\n",
       "    </tr>\n",
       "    <tr>\n",
       "      <th>3</th>\n",
       "      <td>Manoff Group\\nJOB TITLE:  BCC Specialist\\nPOSI...</td>\n",
       "      <td>2004-01-07</td>\n",
       "      <td>BCC Specialist</td>\n",
       "      <td>Manoff Group</td>\n",
       "      <td>The LEAD (Local Enhancement and Development fo...</td>\n",
       "      <td>- Identify gaps in knowledge and overseeing in...</td>\n",
       "      <td>- Advanced degree in public health, social sci...</td>\n",
       "      <td>False</td>\n",
       "      <td>1</td>\n",
       "    </tr>\n",
       "    <tr>\n",
       "      <th>13</th>\n",
       "      <td>Food Security Regional Cooperation and Stabili...</td>\n",
       "      <td>2004-01-14</td>\n",
       "      <td>Community Development, Capacity Building and C...</td>\n",
       "      <td>Food Security Regional Cooperation and Stabili...</td>\n",
       "      <td>Food Security Regional Cooperation and Stabili...</td>\n",
       "      <td>- Assist the Tavush Marz communities and commu...</td>\n",
       "      <td>- Higher Education and/or professional experie...</td>\n",
       "      <td>False</td>\n",
       "      <td>1</td>\n",
       "    </tr>\n",
       "    <tr>\n",
       "      <th>17</th>\n",
       "      <td>United Nations Development Programme, Armenia\\...</td>\n",
       "      <td>2004-01-15</td>\n",
       "      <td>Country Economist (NOB)</td>\n",
       "      <td>United Nations Development Programme, Armenia</td>\n",
       "      <td>The United Nations Development Programme in Ar...</td>\n",
       "      <td>The incumbent under direct supervision of UNDP...</td>\n",
       "      <td>- Minimum Masters Degree in Economics;\\n- Mini...</td>\n",
       "      <td>False</td>\n",
       "      <td>1</td>\n",
       "    </tr>\n",
       "    <tr>\n",
       "      <th>...</th>\n",
       "      <td>...</td>\n",
       "      <td>...</td>\n",
       "      <td>...</td>\n",
       "      <td>...</td>\n",
       "      <td>...</td>\n",
       "      <td>...</td>\n",
       "      <td>...</td>\n",
       "      <td>...</td>\n",
       "      <td>...</td>\n",
       "    </tr>\n",
       "    <tr>\n",
       "      <th>18992</th>\n",
       "      <td>Macadamian AR CJSC\\n\\n\\nTITLE:  .NET Developer...</td>\n",
       "      <td>2015-12-25</td>\n",
       "      <td>.NET Developer</td>\n",
       "      <td>Macadamian AR CJSC</td>\n",
       "      <td>The incumbent will develop software applicatio...</td>\n",
       "      <td>- Participate in all the steps of the software...</td>\n",
       "      <td>- 2 - 5 years of experience in software develo...</td>\n",
       "      <td>True</td>\n",
       "      <td>0</td>\n",
       "    </tr>\n",
       "    <tr>\n",
       "      <th>18995</th>\n",
       "      <td>\"Transport PIU\" State Institution of the RA Mi...</td>\n",
       "      <td>2015-12-24</td>\n",
       "      <td>Deputy Director</td>\n",
       "      <td>\"Transport PIU\" State Institution of the RA Mi...</td>\n",
       "      <td>The incumbent will be responsible for supporti...</td>\n",
       "      <td>- Support the Director in organizing the activ...</td>\n",
       "      <td>- University degree in Civil Engineering, Econ...</td>\n",
       "      <td>False</td>\n",
       "      <td>1</td>\n",
       "    </tr>\n",
       "    <tr>\n",
       "      <th>18996</th>\n",
       "      <td>Technolinguistics NGO\\n\\n\\nTITLE:  Senior Crea...</td>\n",
       "      <td>2015-12-28</td>\n",
       "      <td>Senior Creative UX/ UI Designer</td>\n",
       "      <td>Technolinguistics NGO</td>\n",
       "      <td>A tech startup of Technolinguistics based in N...</td>\n",
       "      <td>- Work closely with product and business teams...</td>\n",
       "      <td>- At least 5 years of experience in Interface/...</td>\n",
       "      <td>False</td>\n",
       "      <td>1</td>\n",
       "    </tr>\n",
       "    <tr>\n",
       "      <th>18999</th>\n",
       "      <td>San Lazzaro   LLC\\n\\n\\nTITLE:  Head of Online ...</td>\n",
       "      <td>2015-12-30</td>\n",
       "      <td>Head of Online Sales Department</td>\n",
       "      <td>San Lazzaro   LLC</td>\n",
       "      <td>San Lazzaro LLC is looking for a well-experien...</td>\n",
       "      <td>- Handle the project activites of the online s...</td>\n",
       "      <td>- At least 1 year of experience in online sale...</td>\n",
       "      <td>False</td>\n",
       "      <td>1</td>\n",
       "    </tr>\n",
       "    <tr>\n",
       "      <th>19000</th>\n",
       "      <td>\"Kamurj\" UCO CJSC\\n\\n\\nTITLE:  Lawyer in Legal...</td>\n",
       "      <td>2015-12-30</td>\n",
       "      <td>Lawyer in Legal Department</td>\n",
       "      <td>\"Kamurj\" UCO CJSC</td>\n",
       "      <td>\"Kamurj\" UCO CJSC is looking for a Lawyer in L...</td>\n",
       "      <td>- Properly provide internal legal services of ...</td>\n",
       "      <td>- Higher legal education; Master's degree is a...</td>\n",
       "      <td>False</td>\n",
       "      <td>1</td>\n",
       "    </tr>\n",
       "  </tbody>\n",
       "</table>\n",
       "<p>13124 rows × 9 columns</p>\n",
       "</div>"
      ],
      "text/plain": [
       "                                                 jobpost       date  \\\n",
       "0      AMERIA Investment Consulting Company\\nJOB TITL... 2004-01-05   \n",
       "2      Caucasus Environmental NGO Network (CENN)\\nJOB... 2004-01-07   \n",
       "3      Manoff Group\\nJOB TITLE:  BCC Specialist\\nPOSI... 2004-01-07   \n",
       "13     Food Security Regional Cooperation and Stabili... 2004-01-14   \n",
       "17     United Nations Development Programme, Armenia\\... 2004-01-15   \n",
       "...                                                  ...        ...   \n",
       "18992  Macadamian AR CJSC\\n\\n\\nTITLE:  .NET Developer... 2015-12-25   \n",
       "18995  \"Transport PIU\" State Institution of the RA Mi... 2015-12-24   \n",
       "18996  Technolinguistics NGO\\n\\n\\nTITLE:  Senior Crea... 2015-12-28   \n",
       "18999  San Lazzaro   LLC\\n\\n\\nTITLE:  Head of Online ... 2015-12-30   \n",
       "19000  \"Kamurj\" UCO CJSC\\n\\n\\nTITLE:  Lawyer in Legal... 2015-12-30   \n",
       "\n",
       "                                                   Title  \\\n",
       "0                                Chief Financial Officer   \n",
       "2                                    Country Coordinator   \n",
       "3                                         BCC Specialist   \n",
       "13     Community Development, Capacity Building and C...   \n",
       "17                               Country Economist (NOB)   \n",
       "...                                                  ...   \n",
       "18992                                     .NET Developer   \n",
       "18995                                    Deputy Director   \n",
       "18996                    Senior Creative UX/ UI Designer   \n",
       "18999                    Head of Online Sales Department   \n",
       "19000                         Lawyer in Legal Department   \n",
       "\n",
       "                                                 Company  \\\n",
       "0                   AMERIA Investment Consulting Company   \n",
       "2              Caucasus Environmental NGO Network (CENN)   \n",
       "3                                           Manoff Group   \n",
       "13     Food Security Regional Cooperation and Stabili...   \n",
       "17         United Nations Development Programme, Armenia   \n",
       "...                                                  ...   \n",
       "18992                                 Macadamian AR CJSC   \n",
       "18995  \"Transport PIU\" State Institution of the RA Mi...   \n",
       "18996                              Technolinguistics NGO   \n",
       "18999                                  San Lazzaro   LLC   \n",
       "19000                                  \"Kamurj\" UCO CJSC   \n",
       "\n",
       "                                          JobDescription  \\\n",
       "0      AMERIA Investment Consulting Company is seekin...   \n",
       "2      Public outreach and strengthening of a growing...   \n",
       "3      The LEAD (Local Enhancement and Development fo...   \n",
       "13     Food Security Regional Cooperation and Stabili...   \n",
       "17     The United Nations Development Programme in Ar...   \n",
       "...                                                  ...   \n",
       "18992  The incumbent will develop software applicatio...   \n",
       "18995  The incumbent will be responsible for supporti...   \n",
       "18996  A tech startup of Technolinguistics based in N...   \n",
       "18999  San Lazzaro LLC is looking for a well-experien...   \n",
       "19000  \"Kamurj\" UCO CJSC is looking for a Lawyer in L...   \n",
       "\n",
       "                                           JobRequirment  \\\n",
       "0      - Supervises financial management and administ...   \n",
       "2      - Working with the Country Director to provide...   \n",
       "3      - Identify gaps in knowledge and overseeing in...   \n",
       "13     - Assist the Tavush Marz communities and commu...   \n",
       "17     The incumbent under direct supervision of UNDP...   \n",
       "...                                                  ...   \n",
       "18992  - Participate in all the steps of the software...   \n",
       "18995  - Support the Director in organizing the activ...   \n",
       "18996  - Work closely with product and business teams...   \n",
       "18999  - Handle the project activites of the online s...   \n",
       "19000  - Properly provide internal legal services of ...   \n",
       "\n",
       "                                            RequiredQual     IT  clusters  \n",
       "0      To perform this job successfully, an\\nindividu...  False         1  \n",
       "2      - Degree in environmentally related field, or ...  False         1  \n",
       "3      - Advanced degree in public health, social sci...  False         1  \n",
       "13     - Higher Education and/or professional experie...  False         1  \n",
       "17     - Minimum Masters Degree in Economics;\\n- Mini...  False         1  \n",
       "...                                                  ...    ...       ...  \n",
       "18992  - 2 - 5 years of experience in software develo...   True         0  \n",
       "18995  - University degree in Civil Engineering, Econ...  False         1  \n",
       "18996  - At least 5 years of experience in Interface/...  False         1  \n",
       "18999  - At least 1 year of experience in online sale...  False         1  \n",
       "19000  - Higher legal education; Master's degree is a...  False         1  \n",
       "\n",
       "[13124 rows x 9 columns]"
      ]
     },
     "execution_count": 182,
     "metadata": {},
     "output_type": "execute_result"
    }
   ],
   "source": [
    "df"
   ]
  },
  {
   "cell_type": "code",
   "execution_count": 248,
   "metadata": {},
   "outputs": [
    {
     "name": "stdout",
     "output_type": "stream",
     "text": [
      "Enter  Job Title :.NET Developer\n"
     ]
    }
   ],
   "source": [
    "h=[]\n",
    "h=input('Enter  Job Title :')"
   ]
  },
  {
   "cell_type": "code",
   "execution_count": 235,
   "metadata": {},
   "outputs": [],
   "source": [
    "df2=df.copy()"
   ]
  },
  {
   "cell_type": "code",
   "execution_count": 249,
   "metadata": {},
   "outputs": [],
   "source": [
    "def myfunc(h):\n",
    "    u=df['Title'].apply(lambda x : 1 if x in h else 0)\n",
    "    return list(u)\n",
    "df2['id']=myfunc(h)\n",
    "    "
   ]
  },
  {
   "cell_type": "code",
   "execution_count": 252,
   "metadata": {},
   "outputs": [
    {
     "data": {
      "text/html": [
       "<div>\n",
       "<style scoped>\n",
       "    .dataframe tbody tr th:only-of-type {\n",
       "        vertical-align: middle;\n",
       "    }\n",
       "\n",
       "    .dataframe tbody tr th {\n",
       "        vertical-align: top;\n",
       "    }\n",
       "\n",
       "    .dataframe thead th {\n",
       "        text-align: right;\n",
       "    }\n",
       "</style>\n",
       "<table border=\"1\" class=\"dataframe\">\n",
       "  <thead>\n",
       "    <tr style=\"text-align: right;\">\n",
       "      <th></th>\n",
       "      <th>jobpost</th>\n",
       "      <th>clusters</th>\n",
       "    </tr>\n",
       "  </thead>\n",
       "  <tbody>\n",
       "    <tr>\n",
       "      <th>3764</th>\n",
       "      <td>Toto International Bookmakers\\nTITLE:  .NET De...</td>\n",
       "      <td>0</td>\n",
       "    </tr>\n",
       "    <tr>\n",
       "      <th>4093</th>\n",
       "      <td>Damaris AM Ltd.\\nTITLE:  Developer\\nANNOUNCEME...</td>\n",
       "      <td>0</td>\n",
       "    </tr>\n",
       "    <tr>\n",
       "      <th>4283</th>\n",
       "      <td>IOGenic\\nTITLE:  .NET Developer\\nANNOUNCEMENT ...</td>\n",
       "      <td>0</td>\n",
       "    </tr>\n",
       "    <tr>\n",
       "      <th>6610</th>\n",
       "      <td>Energize Global Services CJSC\\nTITLE:  Develop...</td>\n",
       "      <td>0</td>\n",
       "    </tr>\n",
       "    <tr>\n",
       "      <th>10239</th>\n",
       "      <td>Firmplace Corporation, Yerevan branch\\nTITLE: ...</td>\n",
       "      <td>0</td>\n",
       "    </tr>\n",
       "  </tbody>\n",
       "</table>\n",
       "</div>"
      ],
      "text/plain": [
       "                                                 jobpost  clusters\n",
       "3764   Toto International Bookmakers\\nTITLE:  .NET De...         0\n",
       "4093   Damaris AM Ltd.\\nTITLE:  Developer\\nANNOUNCEME...         0\n",
       "4283   IOGenic\\nTITLE:  .NET Developer\\nANNOUNCEMENT ...         0\n",
       "6610   Energize Global Services CJSC\\nTITLE:  Develop...         0\n",
       "10239  Firmplace Corporation, Yerevan branch\\nTITLE: ...         0"
      ]
     },
     "execution_count": 252,
     "metadata": {},
     "output_type": "execute_result"
    }
   ],
   "source": [
    "df2.loc[df2['id'] ==1,['jobpost','clusters']].head(5)"
   ]
  },
  {
   "cell_type": "code",
   "execution_count": null,
   "metadata": {},
   "outputs": [],
   "source": []
  }
 ],
 "metadata": {
  "kernelspec": {
   "display_name": "Python 3",
   "language": "python",
   "name": "python3"
  },
  "language_info": {
   "codemirror_mode": {
    "name": "ipython",
    "version": 3
   },
   "file_extension": ".py",
   "mimetype": "text/x-python",
   "name": "python",
   "nbconvert_exporter": "python",
   "pygments_lexer": "ipython3",
   "version": "3.8.3"
  }
 },
 "nbformat": 4,
 "nbformat_minor": 4
}
